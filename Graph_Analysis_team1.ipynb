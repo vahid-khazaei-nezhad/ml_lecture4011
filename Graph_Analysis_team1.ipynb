{
 "cells": [
  {
   "cell_type": "markdown",
   "id": "edd8ab67",
   "metadata": {},
   "source": [
    "# Import libraries"
   ]
  },
  {
   "cell_type": "code",
   "execution_count": 2,
   "id": "c12b6255",
   "metadata": {},
   "outputs": [
    {
     "name": "stdout",
     "output_type": "stream",
     "text": [
      "libraries loaded.\n"
     ]
    }
   ],
   "source": [
    "import numpy as np\n",
    "import pandas as pd\n",
    "import networkx as nx\n",
    "\n",
    "from collections import Counter\n",
    "\n",
    "import matplotlib.pyplot as plt\n",
    "import seaborn as sns\n",
    "\n",
    "sns.set_style('white')\n",
    "\n",
    "print('libraries loaded.')"
   ]
  },
  {
   "cell_type": "markdown",
   "id": "e0880691",
   "metadata": {},
   "source": [
    "# Loading IRIS dataset"
   ]
  },
  {
   "cell_type": "code",
   "execution_count": 3,
   "id": "173ff2d1",
   "metadata": {},
   "outputs": [
    {
     "data": {
      "text/html": [
       "<div>\n",
       "<style scoped>\n",
       "    .dataframe tbody tr th:only-of-type {\n",
       "        vertical-align: middle;\n",
       "    }\n",
       "\n",
       "    .dataframe tbody tr th {\n",
       "        vertical-align: top;\n",
       "    }\n",
       "\n",
       "    .dataframe thead th {\n",
       "        text-align: right;\n",
       "    }\n",
       "</style>\n",
       "<table border=\"1\" class=\"dataframe\">\n",
       "  <thead>\n",
       "    <tr style=\"text-align: right;\">\n",
       "      <th></th>\n",
       "      <th>0</th>\n",
       "      <th>1</th>\n",
       "      <th>2</th>\n",
       "      <th>3</th>\n",
       "      <th>4</th>\n",
       "    </tr>\n",
       "  </thead>\n",
       "  <tbody>\n",
       "    <tr>\n",
       "      <th>0</th>\n",
       "      <td>5.9</td>\n",
       "      <td>3.0</td>\n",
       "      <td>4.2</td>\n",
       "      <td>1.5</td>\n",
       "      <td>Iris-versicolor</td>\n",
       "    </tr>\n",
       "    <tr>\n",
       "      <th>1</th>\n",
       "      <td>6.9</td>\n",
       "      <td>3.1</td>\n",
       "      <td>4.9</td>\n",
       "      <td>1.5</td>\n",
       "      <td>Iris-versicolor</td>\n",
       "    </tr>\n",
       "    <tr>\n",
       "      <th>2</th>\n",
       "      <td>6.6</td>\n",
       "      <td>2.9</td>\n",
       "      <td>4.6</td>\n",
       "      <td>1.3</td>\n",
       "      <td>Iris-versicolor</td>\n",
       "    </tr>\n",
       "    <tr>\n",
       "      <th>3</th>\n",
       "      <td>4.6</td>\n",
       "      <td>3.2</td>\n",
       "      <td>1.4</td>\n",
       "      <td>0.2</td>\n",
       "      <td>Iris-setosa</td>\n",
       "    </tr>\n",
       "    <tr>\n",
       "      <th>4</th>\n",
       "      <td>6.0</td>\n",
       "      <td>2.2</td>\n",
       "      <td>4.0</td>\n",
       "      <td>1.0</td>\n",
       "      <td>Iris-versicolor</td>\n",
       "    </tr>\n",
       "  </tbody>\n",
       "</table>\n",
       "</div>"
      ],
      "text/plain": [
       "     0    1    2    3                4\n",
       "0  5.9  3.0  4.2  1.5  Iris-versicolor\n",
       "1  6.9  3.1  4.9  1.5  Iris-versicolor\n",
       "2  6.6  2.9  4.6  1.3  Iris-versicolor\n",
       "3  4.6  3.2  1.4  0.2      Iris-setosa\n",
       "4  6.0  2.2  4.0  1.0  Iris-versicolor"
      ]
     },
     "execution_count": 3,
     "metadata": {},
     "output_type": "execute_result"
    }
   ],
   "source": [
    "df_iris = pd.read_csv('Data/iris.txt', sep= ',', header= None) \n",
    "\n",
    "df_iris.head()"
   ]
  },
  {
   "cell_type": "markdown",
   "id": "b355b525",
   "metadata": {},
   "source": [
    "# Calculating similarities between samples"
   ]
  },
  {
   "cell_type": "markdown",
   "id": "7f1184fb",
   "metadata": {},
   "source": [
    "## defining function for calculating similarity"
   ]
  },
  {
   "cell_type": "code",
   "execution_count": 4,
   "id": "a5d7a21a",
   "metadata": {},
   "outputs": [],
   "source": [
    "def calculate_similarity(A, B, std):\n",
    "    '''The function definition fgoes here.'''\n",
    "    \n",
    "    from numpy.linalg import norm\n",
    "    \n",
    "    return np.exp(np.divide(norm(np.subtract(A, B))**2, -2 * std**2))\n",
    "   "
   ]
  },
  {
   "cell_type": "markdown",
   "id": "615fbd5a",
   "metadata": {},
   "source": [
    "## Calculating IRIS standard seviation"
   ]
  },
  {
   "cell_type": "code",
   "execution_count": 5,
   "id": "6c267969",
   "metadata": {},
   "outputs": [],
   "source": [
    "std = 0.73"
   ]
  },
  {
   "cell_type": "markdown",
   "id": "a3a17b02",
   "metadata": {},
   "source": [
    "## Calculating similarities"
   ]
  },
  {
   "cell_type": "code",
   "execution_count": 6,
   "id": "1a060749",
   "metadata": {},
   "outputs": [],
   "source": [
    "similarity_values = np.zeros((len(df_iris), len(df_iris)))\n",
    "\n",
    "similarity_values.fill(np.nan)\n",
    "\n",
    "for i in range(len(df_iris)):\n",
    "    \n",
    "    for j in range(i + 1, len(df_iris)):\n",
    "        \n",
    "        similarity_values[i, j] = np.round(calculate_similarity(df_iris.loc[i][:4], df_iris.loc[j][:4], std), 3)\n",
    "    \n",
    "    "
   ]
  },
  {
   "cell_type": "markdown",
   "id": "7ccb1274",
   "metadata": {},
   "source": [
    "## Calculating mean & standard deviation of similarities"
   ]
  },
  {
   "cell_type": "code",
   "execution_count": 7,
   "id": "d55d265a",
   "metadata": {},
   "outputs": [
    {
     "name": "stdout",
     "output_type": "stream",
     "text": [
      "Similarity mean: 0.199, std: 0.289\n"
     ]
    }
   ],
   "source": [
    "similarity_mean = np.round(np.nanmean(similarity_values), 3)\n",
    "\n",
    "similarity_std = np.round(np.nanstd(similarity_values), 3)\n",
    "\n",
    "print(f'Similarity mean: {similarity_mean}, std: {similarity_std}')"
   ]
  },
  {
   "cell_type": "markdown",
   "id": "0b1c9940",
   "metadata": {},
   "source": [
    "# Calculating adjacent matrix based on similarities"
   ]
  },
  {
   "cell_type": "markdown",
   "id": "e8d84c55",
   "metadata": {},
   "source": [
    "## Defining the threshold"
   ]
  },
  {
   "cell_type": "code",
   "execution_count": 8,
   "id": "5f119d4d",
   "metadata": {},
   "outputs": [
    {
     "data": {
      "text/plain": [
       "0.777"
      ]
     },
     "execution_count": 8,
     "metadata": {},
     "output_type": "execute_result"
    }
   ],
   "source": [
    "threshold = np.round(similarity_mean + (2 * similarity_std), 3)\n",
    "\n",
    "threshold"
   ]
  },
  {
   "cell_type": "markdown",
   "id": "1f0c08cd",
   "metadata": {},
   "source": [
    "## Producing adjacent matrix based on threshold value"
   ]
  },
  {
   "cell_type": "code",
   "execution_count": 9,
   "id": "9d8b3d74",
   "metadata": {},
   "outputs": [
    {
     "name": "stdout",
     "output_type": "stream",
     "text": [
      "Number of edges:  803\n"
     ]
    }
   ],
   "source": [
    "adjacent = np.copy(similarity_values)\n",
    "\n",
    "adjacent = np.where(adjacent >= threshold, 1, 0)\n",
    "\n",
    "adjacent[np.isnan(adjacent)] = 0\n",
    "\n",
    "print('Number of edges: ', adjacent.sum())"
   ]
  },
  {
   "cell_type": "markdown",
   "id": "95b47b92",
   "metadata": {},
   "source": [
    "# Graph analysis"
   ]
  },
  {
   "cell_type": "code",
   "execution_count": 10,
   "id": "a524a8d1",
   "metadata": {},
   "outputs": [
    {
     "data": {
      "text/plain": [
       "(150, 150)"
      ]
     },
     "execution_count": 10,
     "metadata": {},
     "output_type": "execute_result"
    }
   ],
   "source": [
    "adjacent_df = pd.DataFrame(adjacent.T + adjacent)\n",
    "\n",
    "#adjacent_df = adjacent_df.loc[adjacent_df.sum() != 0, adjacent_df.sum() != 0 ]\n",
    "\n",
    "adjacent_df.shape"
   ]
  },
  {
   "cell_type": "markdown",
   "id": "342791a2",
   "metadata": {},
   "source": [
    "## Calculating degree of nodes"
   ]
  },
  {
   "cell_type": "code",
   "execution_count": 11,
   "id": "6e8b5f59",
   "metadata": {},
   "outputs": [
    {
     "name": "stdout",
     "output_type": "stream",
     "text": [
      "Mean of nodes degree:  10.707\n"
     ]
    },
    {
     "data": {
      "image/png": "[encoded data removed]",
      "text/plain": [
       "<Figure size 432x288 with 1 Axes>"
      ]
     },
     "metadata": {
      "needs_background": "light"
     },
     "output_type": "display_data"
    }
   ],
   "source": [
    "degree_of_nodes = adjacent_df.sum().to_dict()\n",
    "\n",
    "mean_of_degree = np.sum(list(degree_of_nodes.values()))/ 150.0\n",
    "\n",
    "print('Mean of nodes degree: ', np.round(mean_of_degree, 3))\n",
    "\n",
    "plt.bar(degree_of_nodes.keys(), degree_of_nodes.values())\n",
    "\n",
    "plt.title('The Degree of Nodes in IRIS Similarity Graph')\n",
    "\n",
    "plt.xlabel('Nodes')\n",
    "plt.ylabel('Degree')\n",
    "\n",
    "plt.grid()\n",
    "\n",
    "plt.show()"
   ]
  },
  {
   "cell_type": "markdown",
   "id": "241ba0ad",
   "metadata": {},
   "source": [
    "## Representing degree sequence"
   ]
  },
  {
   "cell_type": "code",
   "execution_count": 12,
   "id": "8253b36c",
   "metadata": {},
   "outputs": [
    {
     "name": "stdout",
     "output_type": "stream",
     "text": [
      "[34, 31, 30, 30, 29, 26, 26, 25, 25, 25, 24, 24, 23, 23, 23, 23, 23, 22, 22, 22, 21, 20, 20, 20, 20, 19, 19, 19, 19, 19, 18, 17, 17, 16, 16, 16, 15, 15, 14, 14, 14, 14, 14, 13, 13, 13, 13, 13, 12, 12, 12, 12, 12, 12, 12, 11, 11, 11, 11, 11, 11, 11, 11, 10, 10, 10, 10, 10, 10, 10, 10, 10, 9, 9, 9, 9, 9, 9, 9, 9, 8, 8, 8, 8, 8, 8, 8, 8, 8, 8, 7, 7, 7, 7, 7, 7, 7, 7, 7, 7, 7, 7, 7, 6, 6, 6, 6, 5, 5, 5, 5, 5, 5, 5, 5, 4, 4, 4, 4, 4, 3, 3, 3, 3, 3, 3, 2, 2, 2, 2, 2, 2, 2, 2, 2, 2, 1, 1, 1, 1, 1, 1, 1, 1, 0, 0, 0, 0, 0, 0]\n"
     ]
    }
   ],
   "source": [
    "degree_sequence = dict(sorted(degree_of_nodes.items(), key= lambda item: item[1], reverse= True))\n",
    "\n",
    "print(list(degree_sequence.values()))"
   ]
  },
  {
   "cell_type": "markdown",
   "id": "0902188b",
   "metadata": {},
   "source": [
    "## Representing degree distribution"
   ]
  },
  {
   "cell_type": "code",
   "execution_count": 13,
   "id": "69956f51",
   "metadata": {},
   "outputs": [
    {
     "data": {
      "image/png": "[encoded data removed]",
      "text/plain": [
       "<Figure size 432x288 with 1 Axes>"
      ]
     },
     "metadata": {
      "needs_background": "light"
     },
     "output_type": "display_data"
    }
   ],
   "source": [
    "degree_distribution = Counter(degree_sequence.values())\n",
    "\n",
    "plt.bar(degree_distribution.keys(), degree_distribution.values())\n",
    "\n",
    "plt.title('The Degree Distribution of IRIS Similarity Graph')\n",
    "\n",
    "plt.xlabel('Degree of Nodes')\n",
    "plt.ylabel('Degree Frequencies')\n",
    "\n",
    "plt.grid()\n",
    "\n",
    "plt.show()"
   ]
  },
  {
   "cell_type": "markdown",
   "id": "7685ad21",
   "metadata": {},
   "source": [
    "## Representing degree probability mass function (PMF)"
   ]
  },
  {
   "cell_type": "code",
   "execution_count": 14,
   "id": "f65b9484",
   "metadata": {},
   "outputs": [
    {
     "data": {
      "image/png": "[encoded data removed]",
      "text/plain": [
       "<Figure size 432x288 with 1 Axes>"
      ]
     },
     "metadata": {
      "needs_background": "light"
     },
     "output_type": "display_data"
    }
   ],
   "source": [
    "pmf = {d: np.round(nk / 150, 3) for d, nk in degree_distribution.items()}\n",
    "\n",
    "plt.bar(pmf.keys(), pmf.values())\n",
    "\n",
    "plt.title('The PMF of Degree of the Nodes of IRIS Similarity Graph ')\n",
    "\n",
    "plt.xlabel('Degree')\n",
    "plt.ylabel('Degree Probabilities')\n",
    "\n",
    "plt.grid()\n",
    "\n",
    "plt.show()"
   ]
  },
  {
   "cell_type": "markdown",
   "id": "9f5d4d50",
   "metadata": {},
   "source": [
    "## Calculating path average of the graph"
   ]
  },
  {
   "cell_type": "code",
   "execution_count": 15,
   "id": "0df2d669",
   "metadata": {},
   "outputs": [
    {
     "name": "stdout",
     "output_type": "stream",
     "text": [
      "Number of strongly connected components in the IRIS graph 11\n"
     ]
    }
   ],
   "source": [
    "G = nx.from_pandas_adjacency(adjacent_df, create_using= nx.DiGraph)\n",
    "\n",
    "print('Number of strongly connected components in the IRIS graph', nx.number_strongly_connected_components(G))"
   ]
  },
  {
   "cell_type": "markdown",
   "id": "e263b48c",
   "metadata": {},
   "source": [
    "### Extracting Components"
   ]
  },
  {
   "cell_type": "code",
   "execution_count": 16,
   "id": "91636888",
   "metadata": {},
   "outputs": [
    {
     "name": "stdout",
     "output_type": "stream",
     "text": [
      "Diameter of component_0:  10 Radius of component_0:  5\n",
      "Diameter of component_1:  6  Radius of component_1:  3\n"
     ]
    }
   ],
   "source": [
    "graphs = nx.condensation(G)\n",
    "\n",
    "component_0 = graphs.nodes.data()[0]['members']\n",
    "\n",
    "component_1 = graphs.nodes.data()[1]['members']\n",
    "\n",
    "G0 = G.subgraph(component_0)\n",
    "\n",
    "G1 = G.subgraph(component_1)\n",
    "\n",
    "print('Diameter of component_0: ', nx.diameter(G0), end= '')\n",
    "\n",
    "print(' Radius of component_0: ', nx.radius(G0))\n",
    "\n",
    "print('Diameter of component_1: ', nx.diameter(G1), end= '')\n",
    "\n",
    "print('  Radius of component_1: ', nx.radius(G1))"
   ]
  },
  {
   "cell_type": "markdown",
   "id": "b393cfc8",
   "metadata": {},
   "source": [
    "### Average shortest path for each component"
   ]
  },
  {
   "cell_type": "code",
   "execution_count": 17,
   "id": "9f0ef1db",
   "metadata": {},
   "outputs": [
    {
     "name": "stdout",
     "output_type": "stream",
     "text": [
      "Path average for component_0:  3.9\n",
      "Path average for component_1:  1.96\n"
     ]
    }
   ],
   "source": [
    "print('Path average for component_0: ', np.round(nx.average_shortest_path_length(G0), 2))\n",
    "\n",
    "print('Path average for component_1: ', np.round(nx.average_shortest_path_length(G1), 2))"
   ]
  },
  {
   "cell_type": "markdown",
   "id": "1ad34594",
   "metadata": {},
   "source": [
    "# Exercises"
   ]
  },
  {
   "cell_type": "markdown",
   "id": "02000405",
   "metadata": {},
   "source": [
    "## Exercise1 : Draw the calculated adjacency matrix(graph) with networkx library"
   ]
  },
  {
   "cell_type": "code",
   "execution_count": 32,
   "id": "7024bb78",
   "metadata": {},
   "outputs": [
    {
     "data": {
      "text/html": [
       "<div>\n",
       "<style scoped>\n",
       "    .dataframe tbody tr th:only-of-type {\n",
       "        vertical-align: middle;\n",
       "    }\n",
       "\n",
       "    .dataframe tbody tr th {\n",
       "        vertical-align: top;\n",
       "    }\n",
       "\n",
       "    .dataframe thead th {\n",
       "        text-align: right;\n",
       "    }\n",
       "</style>\n",
       "<table border=\"1\" class=\"dataframe\">\n",
       "  <thead>\n",
       "    <tr style=\"text-align: right;\">\n",
       "      <th></th>\n",
       "      <th>0</th>\n",
       "      <th>1</th>\n",
       "      <th>2</th>\n",
       "      <th>3</th>\n",
       "      <th>4</th>\n",
       "      <th>5</th>\n",
       "      <th>6</th>\n",
       "      <th>7</th>\n",
       "      <th>8</th>\n",
       "      <th>9</th>\n",
       "      <th>10</th>\n",
       "    </tr>\n",
       "  </thead>\n",
       "  <tbody>\n",
       "    <tr>\n",
       "      <th>0</th>\n",
       "      <td>0</td>\n",
       "      <td>0</td>\n",
       "      <td>0</td>\n",
       "      <td>0</td>\n",
       "      <td>0</td>\n",
       "      <td>0</td>\n",
       "      <td>0</td>\n",
       "      <td>0</td>\n",
       "      <td>0</td>\n",
       "      <td>0</td>\n",
       "      <td>0</td>\n",
       "    </tr>\n",
       "    <tr>\n",
       "      <th>1</th>\n",
       "      <td>0</td>\n",
       "      <td>0</td>\n",
       "      <td>1</td>\n",
       "      <td>0</td>\n",
       "      <td>0</td>\n",
       "      <td>0</td>\n",
       "      <td>0</td>\n",
       "      <td>0</td>\n",
       "      <td>0</td>\n",
       "      <td>0</td>\n",
       "      <td>0</td>\n",
       "    </tr>\n",
       "    <tr>\n",
       "      <th>2</th>\n",
       "      <td>0</td>\n",
       "      <td>1</td>\n",
       "      <td>0</td>\n",
       "      <td>0</td>\n",
       "      <td>0</td>\n",
       "      <td>0</td>\n",
       "      <td>0</td>\n",
       "      <td>0</td>\n",
       "      <td>0</td>\n",
       "      <td>0</td>\n",
       "      <td>0</td>\n",
       "    </tr>\n",
       "    <tr>\n",
       "      <th>3</th>\n",
       "      <td>0</td>\n",
       "      <td>0</td>\n",
       "      <td>0</td>\n",
       "      <td>0</td>\n",
       "      <td>0</td>\n",
       "      <td>1</td>\n",
       "      <td>0</td>\n",
       "      <td>0</td>\n",
       "      <td>0</td>\n",
       "      <td>0</td>\n",
       "      <td>0</td>\n",
       "    </tr>\n",
       "    <tr>\n",
       "      <th>4</th>\n",
       "      <td>0</td>\n",
       "      <td>0</td>\n",
       "      <td>0</td>\n",
       "      <td>0</td>\n",
       "      <td>0</td>\n",
       "      <td>0</td>\n",
       "      <td>0</td>\n",
       "      <td>0</td>\n",
       "      <td>0</td>\n",
       "      <td>0</td>\n",
       "      <td>0</td>\n",
       "    </tr>\n",
       "    <tr>\n",
       "      <th>5</th>\n",
       "      <td>0</td>\n",
       "      <td>0</td>\n",
       "      <td>0</td>\n",
       "      <td>1</td>\n",
       "      <td>0</td>\n",
       "      <td>0</td>\n",
       "      <td>0</td>\n",
       "      <td>0</td>\n",
       "      <td>0</td>\n",
       "      <td>0</td>\n",
       "      <td>0</td>\n",
       "    </tr>\n",
       "    <tr>\n",
       "      <th>6</th>\n",
       "      <td>0</td>\n",
       "      <td>0</td>\n",
       "      <td>0</td>\n",
       "      <td>0</td>\n",
       "      <td>0</td>\n",
       "      <td>0</td>\n",
       "      <td>0</td>\n",
       "      <td>0</td>\n",
       "      <td>1</td>\n",
       "      <td>0</td>\n",
       "      <td>0</td>\n",
       "    </tr>\n",
       "    <tr>\n",
       "      <th>7</th>\n",
       "      <td>0</td>\n",
       "      <td>0</td>\n",
       "      <td>0</td>\n",
       "      <td>0</td>\n",
       "      <td>0</td>\n",
       "      <td>0</td>\n",
       "      <td>0</td>\n",
       "      <td>0</td>\n",
       "      <td>0</td>\n",
       "      <td>0</td>\n",
       "      <td>0</td>\n",
       "    </tr>\n",
       "    <tr>\n",
       "      <th>8</th>\n",
       "      <td>0</td>\n",
       "      <td>0</td>\n",
       "      <td>0</td>\n",
       "      <td>0</td>\n",
       "      <td>0</td>\n",
       "      <td>0</td>\n",
       "      <td>1</td>\n",
       "      <td>0</td>\n",
       "      <td>0</td>\n",
       "      <td>0</td>\n",
       "      <td>0</td>\n",
       "    </tr>\n",
       "    <tr>\n",
       "      <th>9</th>\n",
       "      <td>0</td>\n",
       "      <td>0</td>\n",
       "      <td>0</td>\n",
       "      <td>0</td>\n",
       "      <td>0</td>\n",
       "      <td>0</td>\n",
       "      <td>0</td>\n",
       "      <td>0</td>\n",
       "      <td>0</td>\n",
       "      <td>0</td>\n",
       "      <td>0</td>\n",
       "    </tr>\n",
       "    <tr>\n",
       "      <th>10</th>\n",
       "      <td>0</td>\n",
       "      <td>0</td>\n",
       "      <td>0</td>\n",
       "      <td>0</td>\n",
       "      <td>0</td>\n",
       "      <td>0</td>\n",
       "      <td>0</td>\n",
       "      <td>0</td>\n",
       "      <td>0</td>\n",
       "      <td>0</td>\n",
       "      <td>0</td>\n",
       "    </tr>\n",
       "  </tbody>\n",
       "</table>\n",
       "</div>"
      ],
      "text/plain": [
       "    0   1   2   3   4   5   6   7   8   9   10\n",
       "0    0   0   0   0   0   0   0   0   0   0   0\n",
       "1    0   0   1   0   0   0   0   0   0   0   0\n",
       "2    0   1   0   0   0   0   0   0   0   0   0\n",
       "3    0   0   0   0   0   1   0   0   0   0   0\n",
       "4    0   0   0   0   0   0   0   0   0   0   0\n",
       "5    0   0   0   1   0   0   0   0   0   0   0\n",
       "6    0   0   0   0   0   0   0   0   1   0   0\n",
       "7    0   0   0   0   0   0   0   0   0   0   0\n",
       "8    0   0   0   0   0   0   1   0   0   0   0\n",
       "9    0   0   0   0   0   0   0   0   0   0   0\n",
       "10   0   0   0   0   0   0   0   0   0   0   0"
      ]
     },
     "execution_count": 32,
     "metadata": {},
     "output_type": "execute_result"
    }
   ],
   "source": [
    "a = adjacent_df[:11][[i for i in range(11)]]\n",
    "a"
   ]
  },
  {
   "cell_type": "code",
   "execution_count": 33,
   "id": "9f17da52",
   "metadata": {},
   "outputs": [
    {
     "data": {
      "text/plain": [
       "[(1, 2), (2, 1), (3, 5), (5, 3), (6, 8), (8, 6)]"
      ]
     },
     "execution_count": 33,
     "metadata": {},
     "output_type": "execute_result"
    }
   ],
   "source": [
    "e = []\n",
    "for i in a:\n",
    "    for j in a:\n",
    "        if a[i][j] == 1:\n",
    "            e.append((i, j))\n",
    "e"
   ]
  },
  {
   "cell_type": "code",
   "execution_count": 34,
   "id": "cb3fd34d",
   "metadata": {},
   "outputs": [
    {
     "data": {
      "image/png": "[encoded data removed]",
      "text/plain": [
       "<Figure size 432x288 with 1 Axes>"
      ]
     },
     "metadata": {},
     "output_type": "display_data"
    }
   ],
   "source": [
    "graphs.add_edges_from(e)\n",
    "pos = nx.circular_layout(graphs)\n",
    "nx.draw(graphs, pos=pos, arrows=False, with_labels=True)\n",
    "plt.show()"
   ]
  },
  {
   "cell_type": "markdown",
   "id": "12108566",
   "metadata": {},
   "source": [
    "## Exercise2: Draw each IRIS class with different node shapes from the calculated graph"
   ]
  },
  {
   "cell_type": "code",
   "execution_count": 35,
   "id": "42d2ec7c",
   "metadata": {},
   "outputs": [
    {
     "data": {
      "image/png": "[encoded data removed]",
      "text/plain": [
       "<Figure size 432x288 with 1 Axes>"
      ]
     },
     "metadata": {},
     "output_type": "display_data"
    }
   ],
   "source": [
    "nodes1 = []\n",
    "nodes2 = []\n",
    "nodes3 = []\n",
    "for i in a:\n",
    "    if df_iris[4][i] == 'Iris-versicolor':\n",
    "        nodes1.append(i)\n",
    "    elif df_iris[4][i] == 'Iris-setosa':\n",
    "        nodes2.append(i)\n",
    "    else:\n",
    "        nodes3.append(i)\n",
    "# :D\n",
    "subGraph1 = nx.subgraph(graphs, nodes1)\n",
    "subGraph2 = nx.subgraph(graphs, nodes2)\n",
    "subGraph3 = nx.subgraph(graphs, nodes3)\n",
    "# :D\n",
    "nx.draw(subGraph1, pos=pos, arrows=False, with_labels=True, node_shape='o', node_color='red')\n",
    "nx.draw(subGraph2, pos=pos, arrows=False, with_labels=True, node_shape='s', node_color='green')\n",
    "nx.draw(subGraph3, pos=pos, arrows=False, with_labels=True, node_shape='p', node_color='blue')"
   ]
  },
  {
   "cell_type": "markdown",
   "id": "4020bf19",
   "metadata": {},
   "source": [
    "## Exercise3: Draw degree distribution of the calculated graph"
   ]
  },
  {
   "cell_type": "code",
   "execution_count": 58,
   "id": "74870c5e",
   "metadata": {},
   "outputs": [
    {
     "data": {
      "image/png": "[encoded data removed]",
      "text/plain": [
       "<Figure size 432x288 with 1 Axes>"
      ]
     },
     "metadata": {
      "needs_background": "light"
     },
     "output_type": "display_data"
    }
   ],
   "source": [
    "nodesName = [i for i in range(11)]\n",
    "nodesDegree = []\n",
    "for i in nodesName:\n",
    "    nodesDegree.append(graphs.degree(i))\n",
    "# :D\n",
    "plt.bar(nodesName, nodesDegree)\n",
    "plt.show()"
   ]
  }
 ],
 "metadata": {
  "kernelspec": {
   "display_name": "Python 3",
   "language": "python",
   "name": "python3"
  },
  "language_info": {
   "codemirror_mode": {
    "name": "ipython",
    "version": 3
   },
   "file_extension": ".py",
   "mimetype": "text/x-python",
   "name": "python",
   "nbconvert_exporter": "python",
   "pygments_lexer": "ipython3",
   "version": "3.10.1"
  },
  "toc": {
   "base_numbering": 1,
   "nav_menu": {},
   "number_sections": true,
   "sideBar": true,
   "skip_h1_title": false,
   "title_cell": "Table of Contents",
   "title_sidebar": "Contents",
   "toc_cell": false,
   "toc_position": {},
   "toc_section_display": true,
   "toc_window_display": false
  },
  "varInspector": {
   "cols": {
    "lenName": 16,
    "lenType": 16,
    "lenVar": 40
   },
   "kernels_config": {
    "python": {
     "delete_cmd_postfix": "",
     "delete_cmd_prefix": "del ",
     "library": "var_list.py",
     "varRefreshCmd": "print(var_dic_list())"
    },
    "r": {
     "delete_cmd_postfix": ") ",
     "delete_cmd_prefix": "rm(",
     "library": "var_list.r",
     "varRefreshCmd": "cat(var_dic_list()) "
    }
   },
   "types_to_exclude": [
    "module",
    "function",
    "builtin_function_or_method",
    "instance",
    "_Feature"
   ],
   "window_display": false
  },
  "vscode": {
   "interpreter": {
    "hash": "98b1f78af4a30ce179a5ef7d7f12526addc010ff51e8d0d456341101c95a7245"
   }
  }
 },
 "nbformat": 4,
 "nbformat_minor": 5
}
