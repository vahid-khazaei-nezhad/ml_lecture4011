{
 "cells": [
  {
   "cell_type": "markdown",
   "id": "c4485712",
   "metadata": {
    "heading_collapsed": true
   },
   "source": [
    "# Loading libraries"
   ]
  },
  {
   "cell_type": "code",
   "execution_count": 65,
   "id": "27e52151",
   "metadata": {
    "hidden": true
   },
   "outputs": [
    {
     "name": "stdout",
     "output_type": "stream",
     "text": [
      "libraries loaded.\n"
     ]
    }
   ],
   "source": [
    "import numpy as np\n",
    "import pandas as pd\n",
    "\n",
    "from collections import Counter\n",
    "\n",
    "import matplotlib.pyplot as plt\n",
    "import seaborn as sns\n",
    "\n",
    "sns.set_style('white')\n",
    "\n",
    "print('libraries loaded.')"
   ]
  },
  {
   "cell_type": "markdown",
   "id": "7ebfb208",
   "metadata": {
    "heading_collapsed": true
   },
   "source": [
    "# Loading dataset"
   ]
  },
  {
   "cell_type": "code",
   "execution_count": 66,
   "id": "f951115b",
   "metadata": {
    "hidden": true
   },
   "outputs": [
    {
     "data": {
      "text/html": [
       "<div>\n",
       "<style scoped>\n",
       "    .dataframe tbody tr th:only-of-type {\n",
       "        vertical-align: middle;\n",
       "    }\n",
       "\n",
       "    .dataframe tbody tr th {\n",
       "        vertical-align: top;\n",
       "    }\n",
       "\n",
       "    .dataframe thead th {\n",
       "        text-align: right;\n",
       "    }\n",
       "</style>\n",
       "<table border=\"1\" class=\"dataframe\">\n",
       "  <thead>\n",
       "    <tr style=\"text-align: right;\">\n",
       "      <th></th>\n",
       "      <th>sepal_length</th>\n",
       "      <th>sepal_width</th>\n",
       "      <th>petal_length</th>\n",
       "      <th>petal_width</th>\n",
       "      <th>iris_name</th>\n",
       "    </tr>\n",
       "  </thead>\n",
       "  <tbody>\n",
       "    <tr>\n",
       "      <th>0</th>\n",
       "      <td>5.9</td>\n",
       "      <td>3.0</td>\n",
       "      <td>4.2</td>\n",
       "      <td>1.5</td>\n",
       "      <td>Iris-versicolor</td>\n",
       "    </tr>\n",
       "    <tr>\n",
       "      <th>1</th>\n",
       "      <td>6.9</td>\n",
       "      <td>3.1</td>\n",
       "      <td>4.9</td>\n",
       "      <td>1.5</td>\n",
       "      <td>Iris-versicolor</td>\n",
       "    </tr>\n",
       "    <tr>\n",
       "      <th>2</th>\n",
       "      <td>6.6</td>\n",
       "      <td>2.9</td>\n",
       "      <td>4.6</td>\n",
       "      <td>1.3</td>\n",
       "      <td>Iris-versicolor</td>\n",
       "    </tr>\n",
       "    <tr>\n",
       "      <th>3</th>\n",
       "      <td>4.6</td>\n",
       "      <td>3.2</td>\n",
       "      <td>1.4</td>\n",
       "      <td>0.2</td>\n",
       "      <td>Iris-setosa</td>\n",
       "    </tr>\n",
       "    <tr>\n",
       "      <th>4</th>\n",
       "      <td>6.0</td>\n",
       "      <td>2.2</td>\n",
       "      <td>4.0</td>\n",
       "      <td>1.0</td>\n",
       "      <td>Iris-versicolor</td>\n",
       "    </tr>\n",
       "  </tbody>\n",
       "</table>\n",
       "</div>"
      ],
      "text/plain": [
       "   sepal_length  sepal_width  petal_length  petal_width        iris_name\n",
       "0           5.9          3.0           4.2          1.5  Iris-versicolor\n",
       "1           6.9          3.1           4.9          1.5  Iris-versicolor\n",
       "2           6.6          2.9           4.6          1.3  Iris-versicolor\n",
       "3           4.6          3.2           1.4          0.2      Iris-setosa\n",
       "4           6.0          2.2           4.0          1.0  Iris-versicolor"
      ]
     },
     "execution_count": 66,
     "metadata": {},
     "output_type": "execute_result"
    }
   ],
   "source": [
    "df_iris = pd.read_csv('Data/iris.txt', sep= ',', header= None) \n",
    "\n",
    "df_iris.columns= ['sepal_length', 'sepal_width', 'petal_length', 'petal_width', 'iris_name']\n",
    "\n",
    "df_iris.head()"
   ]
  },
  {
   "cell_type": "markdown",
   "id": "35b796a1",
   "metadata": {
    "heading_collapsed": true
   },
   "source": [
    "# Finding max absolute value of first 2-dimension"
   ]
  },
  {
   "cell_type": "code",
   "execution_count": 67,
   "id": "9776c250",
   "metadata": {
    "hidden": true
   },
   "outputs": [
    {
     "data": {
      "text/html": [
       "<div>\n",
       "<style scoped>\n",
       "    .dataframe tbody tr th:only-of-type {\n",
       "        vertical-align: middle;\n",
       "    }\n",
       "\n",
       "    .dataframe tbody tr th {\n",
       "        vertical-align: top;\n",
       "    }\n",
       "\n",
       "    .dataframe thead th {\n",
       "        text-align: right;\n",
       "    }\n",
       "</style>\n",
       "<table border=\"1\" class=\"dataframe\">\n",
       "  <thead>\n",
       "    <tr style=\"text-align: right;\">\n",
       "      <th></th>\n",
       "      <th>sepal_length</th>\n",
       "      <th>sepal_width</th>\n",
       "    </tr>\n",
       "  </thead>\n",
       "  <tbody>\n",
       "    <tr>\n",
       "      <th>0</th>\n",
       "      <td>0.06</td>\n",
       "      <td>-0.05</td>\n",
       "    </tr>\n",
       "    <tr>\n",
       "      <th>1</th>\n",
       "      <td>1.06</td>\n",
       "      <td>0.05</td>\n",
       "    </tr>\n",
       "    <tr>\n",
       "      <th>2</th>\n",
       "      <td>0.76</td>\n",
       "      <td>-0.15</td>\n",
       "    </tr>\n",
       "    <tr>\n",
       "      <th>3</th>\n",
       "      <td>-1.24</td>\n",
       "      <td>0.15</td>\n",
       "    </tr>\n",
       "    <tr>\n",
       "      <th>4</th>\n",
       "      <td>0.16</td>\n",
       "      <td>-0.85</td>\n",
       "    </tr>\n",
       "  </tbody>\n",
       "</table>\n",
       "</div>"
      ],
      "text/plain": [
       "   sepal_length  sepal_width\n",
       "0          0.06        -0.05\n",
       "1          1.06         0.05\n",
       "2          0.76        -0.15\n",
       "3         -1.24         0.15\n",
       "4          0.16        -0.85"
      ]
     },
     "execution_count": 67,
     "metadata": {},
     "output_type": "execute_result"
    }
   ],
   "source": [
    "centred_sepal = pd.DataFrame()\n",
    "\n",
    "sl_mean, sw_mean = np.round(df_iris.loc[:, ['sepal_length', 'sepal_width']].mean(), 2)\n",
    "\n",
    "centred_sepal['sepal_length'] = df_iris['sepal_length'] - sl_mean\n",
    "\n",
    "centred_sepal['sepal_width'] = df_iris['sepal_width'] - sw_mean\n",
    "\n",
    "centred_sepal.head()"
   ]
  },
  {
   "cell_type": "markdown",
   "id": "6c93ceb3",
   "metadata": {
    "hidden": true
   },
   "source": [
    "## Finding max value of each dimension"
   ]
  },
  {
   "cell_type": "code",
   "execution_count": 68,
   "id": "564d4c99",
   "metadata": {
    "hidden": true
   },
   "outputs": [
    {
     "data": {
      "text/plain": [
       "sepal_length    2.06\n",
       "sepal_width     1.35\n",
       "dtype: float64"
      ]
     },
     "execution_count": 68,
     "metadata": {},
     "output_type": "execute_result"
    }
   ],
   "source": [
    "centred_sepal.max()"
   ]
  },
  {
   "cell_type": "markdown",
   "id": "8033d8de",
   "metadata": {
    "hidden": true
   },
   "source": [
    "## Find the max value index of the maximume value"
   ]
  },
  {
   "cell_type": "code",
   "execution_count": 69,
   "id": "4ae2582b",
   "metadata": {
    "hidden": true
   },
   "outputs": [
    {
     "data": {
      "text/plain": [
       "sepal_length    70\n",
       "sepal_width     22\n",
       "dtype: int64"
      ]
     },
     "execution_count": 69,
     "metadata": {},
     "output_type": "execute_result"
    }
   ],
   "source": [
    "centred_sepal.idxmax()"
   ]
  },
  {
   "cell_type": "markdown",
   "id": "b58ff3dc",
   "metadata": {
    "hidden": true
   },
   "source": [
    "## Caculate magnitude of the max_vector"
   ]
  },
  {
   "cell_type": "code",
   "execution_count": 73,
   "id": "7801c7e1",
   "metadata": {
    "hidden": true
   },
   "outputs": [
    {
     "data": {
      "text/plain": [
       "(2.06, 0.75, 2.19)"
      ]
     },
     "execution_count": 73,
     "metadata": {},
     "output_type": "execute_result"
    }
   ],
   "source": [
    "l, w = np.round(centred_sepal.loc[centred_sepal.idxmax().max()], 2)\n",
    "\n",
    "magnitude = np.round(np.sqrt(l * l + w * w), 2)\n",
    "\n",
    "l, w, magnitude"
   ]
  },
  {
   "cell_type": "markdown",
   "id": "871e2131",
   "metadata": {
    "hidden": true
   },
   "source": [
    "## Get the magnitude of the maximum vector straightforward "
   ]
  },
  {
   "cell_type": "code",
   "execution_count": 71,
   "id": "ff8df487",
   "metadata": {
    "hidden": true
   },
   "outputs": [
    {
     "data": {
      "text/plain": [
       "2.19"
      ]
     },
     "execution_count": 71,
     "metadata": {},
     "output_type": "execute_result"
    }
   ],
   "source": [
    "np.round(centred_sepal.apply(np.linalg.norm, axis= 1).max(), 2)"
   ]
  },
  {
   "cell_type": "markdown",
   "id": "368dafdf",
   "metadata": {},
   "source": [
    "# plotting centred_sepal"
   ]
  },
  {
   "cell_type": "code",
   "execution_count": 97,
   "id": "6bba21a2",
   "metadata": {},
   "outputs": [
    {
     "data": {
      "image/png": "[encoded data removed]",
      "text/plain": [
       "<Figure size 640x480 with 1 Axes>"
      ]
     },
     "metadata": {},
     "output_type": "display_data"
    }
   ],
   "source": [
    "figure, axes = plt.subplots() \n",
    "\n",
    "plt.scatter(centred_sepal['sepal_length'], centred_sepal['sepal_width'])\n",
    "\n",
    "plt.scatter(2.06, 0.75, marker= 'o', color= 'k')\n",
    "\n",
    "sphere = plt.Circle((0, 0), magnitude, color= 'k', fill= False)\n",
    "\n",
    "axes.set_aspect(1) \n",
    "axes.add_artist(sphere)\n",
    "\n",
    "plt.axvline(x = 0, color = 'k')\n",
    "plt.axhline(y = 0, color = 'k')\n",
    "\n",
    "plt.arrow(0, 0, 2, 0.75, color= 'k', width= .02, length_includes_head= True)\n",
    "plt.text(1, 0.5, 'r', fontsize= 12)\n",
    "\n",
    "plt.xlim((-2.5, 2.5))\n",
    "plt.ylim((-2.5, 2.5))\n",
    "\n",
    "plt.xlabel('Sepal Length')\n",
    "plt.ylabel('Sepal Width')\n",
    "\n",
    "plt.show()"
   ]
  },
  {
   "cell_type": "code",
   "execution_count": null,
   "id": "bf476d54",
   "metadata": {},
   "outputs": [],
   "source": []
  }
 ],
 "metadata": {
  "kernelspec": {
   "display_name": "Python 3 (ipykernel)",
   "language": "python",
   "name": "python3"
  },
  "language_info": {
   "codemirror_mode": {
    "name": "ipython",
    "version": 3
   },
   "file_extension": ".py",
   "mimetype": "text/x-python",
   "name": "python",
   "nbconvert_exporter": "python",
   "pygments_lexer": "ipython3",
   "version": "3.10.6"
  },
  "toc": {
   "base_numbering": 1,
   "nav_menu": {},
   "number_sections": true,
   "sideBar": true,
   "skip_h1_title": false,
   "title_cell": "Table of Contents",
   "title_sidebar": "Contents",
   "toc_cell": false,
   "toc_position": {},
   "toc_section_display": true,
   "toc_window_display": false
  },
  "varInspector": {
   "cols": {
    "lenName": 16,
    "lenType": 16,
    "lenVar": 40
   },
   "kernels_config": {
    "python": {
     "delete_cmd_postfix": "",
     "delete_cmd_prefix": "del ",
     "library": "var_list.py",
     "varRefreshCmd": "print(var_dic_list())"
    },
    "r": {
     "delete_cmd_postfix": ") ",
     "delete_cmd_prefix": "rm(",
     "library": "var_list.r",
     "varRefreshCmd": "cat(var_dic_list()) "
    }
   },
   "types_to_exclude": [
    "module",
    "function",
    "builtin_function_or_method",
    "instance",
    "_Feature"
   ],
   "window_display": false
  }
 },
 "nbformat": 4,
 "nbformat_minor": 5
}
