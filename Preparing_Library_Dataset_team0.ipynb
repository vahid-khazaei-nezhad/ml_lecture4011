{
 "cells": [
  {
   "cell_type": "code",
   "execution_count": 208,
   "outputs": [],
   "source": [
    "import numpy as np\n",
    "import pandas as pd\n",
    "import matplotlib.pyplot as plt"
   ],
   "metadata": {
    "collapsed": false,
    "pycharm": {
     "name": "#%%\n"
    }
   }
  },
  {
   "cell_type": "code",
   "execution_count": 209,
   "outputs": [
    {
     "data": {
      "text/plain": "   0    1        2             3    4          5   \\\n0 NaN  NaN      NaN           NaN  NaN        NaN   \n1 NaN  NaN      NaN           NaN  NaN        NaN   \n2 NaN  NaN      NaN           NaN  NaN        NaN   \n3 NaN  NaN      NaN           NaN  NaN        NaN   \n4 NaN  NaN      NaN           NaN  NaN        NaN   \n5 NaN  NaN      NaN  شماره راهنما  NaN  تعداد نسخ   \n6 NaN  NaN      NaN           NaN  NaN        NaN   \n7 NaN  NaN      NaN           NaN  NaN        NaN   \n8 NaN  NaN  ‭‭ص‌۱۶۸           NaN  4.0        NaN   \n9 NaN  NaN      NaN           NaN  NaN        NaN   \n\n                                                  6      7     8           9   \\\n0                                                NaN    NaN   NaN         NaN   \n1                                                NaN    NaN   NaN         NaN   \n2                                                NaN    NaN   NaN         NaN   \n3                                                NaN    NaN   NaN         NaN   \n4                                                NaN    NaN   NaN         NaN   \n5                                                NaN  عنوان   NaN  شماره مدرک   \n6                                                NaN    NaN   NaN         NaN   \n7                                                NaN    NaN   NaN         NaN   \n8  ‮ح‍ل‌ م‍س‍ائ‍ل‌ ف‍ی‍زی‍ک‌ ب‍رای‌ ع‍ل‍وم‌ زی‍س‍...    NaN  ۲۳۵۹         NaN   \n9                                                NaN    NaN   NaN         NaN   \n\n       10           11  \n0     NaN          NaN  \n1     NaN          NaN  \n2     NaN          NaN  \n3     NaN          NaN  \n4     NaN          NaN  \n5     NaN  شماره رکورد  \n6     NaN          NaN  \n7     NaN          NaN  \n8  2594.0          NaN  \n9     NaN          NaN  ",
      "text/html": "<div>\n<style scoped>\n    .dataframe tbody tr th:only-of-type {\n        vertical-align: middle;\n    }\n\n    .dataframe tbody tr th {\n        vertical-align: top;\n    }\n\n    .dataframe thead th {\n        text-align: right;\n    }\n</style>\n<table border=\"1\" class=\"dataframe\">\n  <thead>\n    <tr style=\"text-align: right;\">\n      <th></th>\n      <th>0</th>\n      <th>1</th>\n      <th>2</th>\n      <th>3</th>\n      <th>4</th>\n      <th>5</th>\n      <th>6</th>\n      <th>7</th>\n      <th>8</th>\n      <th>9</th>\n      <th>10</th>\n      <th>11</th>\n    </tr>\n  </thead>\n  <tbody>\n    <tr>\n      <th>0</th>\n      <td>NaN</td>\n      <td>NaN</td>\n      <td>NaN</td>\n      <td>NaN</td>\n      <td>NaN</td>\n      <td>NaN</td>\n      <td>NaN</td>\n      <td>NaN</td>\n      <td>NaN</td>\n      <td>NaN</td>\n      <td>NaN</td>\n      <td>NaN</td>\n    </tr>\n    <tr>\n      <th>1</th>\n      <td>NaN</td>\n      <td>NaN</td>\n      <td>NaN</td>\n      <td>NaN</td>\n      <td>NaN</td>\n      <td>NaN</td>\n      <td>NaN</td>\n      <td>NaN</td>\n      <td>NaN</td>\n      <td>NaN</td>\n      <td>NaN</td>\n      <td>NaN</td>\n    </tr>\n    <tr>\n      <th>2</th>\n      <td>NaN</td>\n      <td>NaN</td>\n      <td>NaN</td>\n      <td>NaN</td>\n      <td>NaN</td>\n      <td>NaN</td>\n      <td>NaN</td>\n      <td>NaN</td>\n      <td>NaN</td>\n      <td>NaN</td>\n      <td>NaN</td>\n      <td>NaN</td>\n    </tr>\n    <tr>\n      <th>3</th>\n      <td>NaN</td>\n      <td>NaN</td>\n      <td>NaN</td>\n      <td>NaN</td>\n      <td>NaN</td>\n      <td>NaN</td>\n      <td>NaN</td>\n      <td>NaN</td>\n      <td>NaN</td>\n      <td>NaN</td>\n      <td>NaN</td>\n      <td>NaN</td>\n    </tr>\n    <tr>\n      <th>4</th>\n      <td>NaN</td>\n      <td>NaN</td>\n      <td>NaN</td>\n      <td>NaN</td>\n      <td>NaN</td>\n      <td>NaN</td>\n      <td>NaN</td>\n      <td>NaN</td>\n      <td>NaN</td>\n      <td>NaN</td>\n      <td>NaN</td>\n      <td>NaN</td>\n    </tr>\n    <tr>\n      <th>5</th>\n      <td>NaN</td>\n      <td>NaN</td>\n      <td>NaN</td>\n      <td>شماره راهنما</td>\n      <td>NaN</td>\n      <td>تعداد نسخ</td>\n      <td>NaN</td>\n      <td>عنوان</td>\n      <td>NaN</td>\n      <td>شماره مدرک</td>\n      <td>NaN</td>\n      <td>شماره رکورد</td>\n    </tr>\n    <tr>\n      <th>6</th>\n      <td>NaN</td>\n      <td>NaN</td>\n      <td>NaN</td>\n      <td>NaN</td>\n      <td>NaN</td>\n      <td>NaN</td>\n      <td>NaN</td>\n      <td>NaN</td>\n      <td>NaN</td>\n      <td>NaN</td>\n      <td>NaN</td>\n      <td>NaN</td>\n    </tr>\n    <tr>\n      <th>7</th>\n      <td>NaN</td>\n      <td>NaN</td>\n      <td>NaN</td>\n      <td>NaN</td>\n      <td>NaN</td>\n      <td>NaN</td>\n      <td>NaN</td>\n      <td>NaN</td>\n      <td>NaN</td>\n      <td>NaN</td>\n      <td>NaN</td>\n      <td>NaN</td>\n    </tr>\n    <tr>\n      <th>8</th>\n      <td>NaN</td>\n      <td>NaN</td>\n      <td>‭‭ص‌۱۶۸</td>\n      <td>NaN</td>\n      <td>4.0</td>\n      <td>NaN</td>\n      <td>‮ح‍ل‌ م‍س‍ائ‍ل‌ ف‍ی‍زی‍ک‌ ب‍رای‌ ع‍ل‍وم‌ زی‍س‍...</td>\n      <td>NaN</td>\n      <td>۲۳۵۹</td>\n      <td>NaN</td>\n      <td>2594.0</td>\n      <td>NaN</td>\n    </tr>\n    <tr>\n      <th>9</th>\n      <td>NaN</td>\n      <td>NaN</td>\n      <td>NaN</td>\n      <td>NaN</td>\n      <td>NaN</td>\n      <td>NaN</td>\n      <td>NaN</td>\n      <td>NaN</td>\n      <td>NaN</td>\n      <td>NaN</td>\n      <td>NaN</td>\n      <td>NaN</td>\n    </tr>\n  </tbody>\n</table>\n</div>"
     },
     "execution_count": 209,
     "metadata": {},
     "output_type": "execute_result"
    }
   ],
   "source": [
    "library_df = pd.read_excel('converted.xlsx', engine='openpyxl', header= None)\n",
    "library_df.head(10)"
   ],
   "metadata": {
    "collapsed": false,
    "pycharm": {
     "name": "#%%\n"
    }
   }
  },
  {
   "cell_type": "markdown",
   "source": [
    "# Simple EDA"
   ],
   "metadata": {
    "collapsed": false
   }
  },
  {
   "cell_type": "markdown",
   "source": [
    "## Checking size of dataset"
   ],
   "metadata": {
    "collapsed": false
   }
  },
  {
   "cell_type": "code",
   "execution_count": 210,
   "outputs": [
    {
     "data": {
      "text/plain": "(10355, 12)"
     },
     "execution_count": 210,
     "metadata": {},
     "output_type": "execute_result"
    }
   ],
   "source": [
    "library_df.shape"
   ],
   "metadata": {
    "collapsed": false,
    "pycharm": {
     "name": "#%%\n"
    }
   }
  },
  {
   "cell_type": "markdown",
   "source": [
    "## Checking data types"
   ],
   "metadata": {
    "collapsed": false
   }
  },
  {
   "cell_type": "code",
   "execution_count": 211,
   "outputs": [
    {
     "data": {
      "text/plain": "0     float64\n1      object\n2      object\n3      object\n4     float64\n5      object\n6      object\n7      object\n8      object\n9      object\n10    float64\n11     object\ndtype: object"
     },
     "execution_count": 211,
     "metadata": {},
     "output_type": "execute_result"
    }
   ],
   "source": [
    "library_df.dtypes"
   ],
   "metadata": {
    "collapsed": false,
    "pycharm": {
     "name": "#%%\n"
    }
   }
  },
  {
   "cell_type": "markdown",
   "source": [
    "## Checking null columns"
   ],
   "metadata": {
    "collapsed": false
   }
  },
  {
   "cell_type": "code",
   "execution_count": 212,
   "outputs": [
    {
     "data": {
      "text/plain": "0     10355\n1     10302\n2      7824\n3     10354\n4      7823\n5     10354\n6      7823\n7     10354\n8      7824\n9     10354\n10     7824\n11    10354\ndtype: int64"
     },
     "execution_count": 212,
     "metadata": {},
     "output_type": "execute_result"
    }
   ],
   "source": [
    "library_df.isnull().sum()"
   ],
   "metadata": {
    "collapsed": false,
    "pycharm": {
     "name": "#%%\n"
    }
   }
  },
  {
   "cell_type": "markdown",
   "source": [
    "## Checking null rows"
   ],
   "metadata": {
    "collapsed": false
   }
  },
  {
   "cell_type": "code",
   "execution_count": 213,
   "outputs": [
    {
     "data": {
      "text/plain": "       0    1    2    3   4    5    6    7    8    9   10   11\n0     NaN  NaN  NaN  NaN NaN  NaN  NaN  NaN  NaN  NaN NaN  NaN\n1     NaN  NaN  NaN  NaN NaN  NaN  NaN  NaN  NaN  NaN NaN  NaN\n2     NaN  NaN  NaN  NaN NaN  NaN  NaN  NaN  NaN  NaN NaN  NaN\n3     NaN  NaN  NaN  NaN NaN  NaN  NaN  NaN  NaN  NaN NaN  NaN\n4     NaN  NaN  NaN  NaN NaN  NaN  NaN  NaN  NaN  NaN NaN  NaN\n...    ..  ...  ...  ...  ..  ...  ...  ...  ...  ...  ..  ...\n10347 NaN  NaN  NaN  NaN NaN  NaN  NaN  NaN  NaN  NaN NaN  NaN\n10349 NaN  NaN  NaN  NaN NaN  NaN  NaN  NaN  NaN  NaN NaN  NaN\n10350 NaN  NaN  NaN  NaN NaN  NaN  NaN  NaN  NaN  NaN NaN  NaN\n10352 NaN  NaN  NaN  NaN NaN  NaN  NaN  NaN  NaN  NaN NaN  NaN\n10353 NaN  NaN  NaN  NaN NaN  NaN  NaN  NaN  NaN  NaN NaN  NaN\n\n[7769 rows x 12 columns]",
      "text/html": "<div>\n<style scoped>\n    .dataframe tbody tr th:only-of-type {\n        vertical-align: middle;\n    }\n\n    .dataframe tbody tr th {\n        vertical-align: top;\n    }\n\n    .dataframe thead th {\n        text-align: right;\n    }\n</style>\n<table border=\"1\" class=\"dataframe\">\n  <thead>\n    <tr style=\"text-align: right;\">\n      <th></th>\n      <th>0</th>\n      <th>1</th>\n      <th>2</th>\n      <th>3</th>\n      <th>4</th>\n      <th>5</th>\n      <th>6</th>\n      <th>7</th>\n      <th>8</th>\n      <th>9</th>\n      <th>10</th>\n      <th>11</th>\n    </tr>\n  </thead>\n  <tbody>\n    <tr>\n      <th>0</th>\n      <td>NaN</td>\n      <td>NaN</td>\n      <td>NaN</td>\n      <td>NaN</td>\n      <td>NaN</td>\n      <td>NaN</td>\n      <td>NaN</td>\n      <td>NaN</td>\n      <td>NaN</td>\n      <td>NaN</td>\n      <td>NaN</td>\n      <td>NaN</td>\n    </tr>\n    <tr>\n      <th>1</th>\n      <td>NaN</td>\n      <td>NaN</td>\n      <td>NaN</td>\n      <td>NaN</td>\n      <td>NaN</td>\n      <td>NaN</td>\n      <td>NaN</td>\n      <td>NaN</td>\n      <td>NaN</td>\n      <td>NaN</td>\n      <td>NaN</td>\n      <td>NaN</td>\n    </tr>\n    <tr>\n      <th>2</th>\n      <td>NaN</td>\n      <td>NaN</td>\n      <td>NaN</td>\n      <td>NaN</td>\n      <td>NaN</td>\n      <td>NaN</td>\n      <td>NaN</td>\n      <td>NaN</td>\n      <td>NaN</td>\n      <td>NaN</td>\n      <td>NaN</td>\n      <td>NaN</td>\n    </tr>\n    <tr>\n      <th>3</th>\n      <td>NaN</td>\n      <td>NaN</td>\n      <td>NaN</td>\n      <td>NaN</td>\n      <td>NaN</td>\n      <td>NaN</td>\n      <td>NaN</td>\n      <td>NaN</td>\n      <td>NaN</td>\n      <td>NaN</td>\n      <td>NaN</td>\n      <td>NaN</td>\n    </tr>\n    <tr>\n      <th>4</th>\n      <td>NaN</td>\n      <td>NaN</td>\n      <td>NaN</td>\n      <td>NaN</td>\n      <td>NaN</td>\n      <td>NaN</td>\n      <td>NaN</td>\n      <td>NaN</td>\n      <td>NaN</td>\n      <td>NaN</td>\n      <td>NaN</td>\n      <td>NaN</td>\n    </tr>\n    <tr>\n      <th>...</th>\n      <td>...</td>\n      <td>...</td>\n      <td>...</td>\n      <td>...</td>\n      <td>...</td>\n      <td>...</td>\n      <td>...</td>\n      <td>...</td>\n      <td>...</td>\n      <td>...</td>\n      <td>...</td>\n      <td>...</td>\n    </tr>\n    <tr>\n      <th>10347</th>\n      <td>NaN</td>\n      <td>NaN</td>\n      <td>NaN</td>\n      <td>NaN</td>\n      <td>NaN</td>\n      <td>NaN</td>\n      <td>NaN</td>\n      <td>NaN</td>\n      <td>NaN</td>\n      <td>NaN</td>\n      <td>NaN</td>\n      <td>NaN</td>\n    </tr>\n    <tr>\n      <th>10349</th>\n      <td>NaN</td>\n      <td>NaN</td>\n      <td>NaN</td>\n      <td>NaN</td>\n      <td>NaN</td>\n      <td>NaN</td>\n      <td>NaN</td>\n      <td>NaN</td>\n      <td>NaN</td>\n      <td>NaN</td>\n      <td>NaN</td>\n      <td>NaN</td>\n    </tr>\n    <tr>\n      <th>10350</th>\n      <td>NaN</td>\n      <td>NaN</td>\n      <td>NaN</td>\n      <td>NaN</td>\n      <td>NaN</td>\n      <td>NaN</td>\n      <td>NaN</td>\n      <td>NaN</td>\n      <td>NaN</td>\n      <td>NaN</td>\n      <td>NaN</td>\n      <td>NaN</td>\n    </tr>\n    <tr>\n      <th>10352</th>\n      <td>NaN</td>\n      <td>NaN</td>\n      <td>NaN</td>\n      <td>NaN</td>\n      <td>NaN</td>\n      <td>NaN</td>\n      <td>NaN</td>\n      <td>NaN</td>\n      <td>NaN</td>\n      <td>NaN</td>\n      <td>NaN</td>\n      <td>NaN</td>\n    </tr>\n    <tr>\n      <th>10353</th>\n      <td>NaN</td>\n      <td>NaN</td>\n      <td>NaN</td>\n      <td>NaN</td>\n      <td>NaN</td>\n      <td>NaN</td>\n      <td>NaN</td>\n      <td>NaN</td>\n      <td>NaN</td>\n      <td>NaN</td>\n      <td>NaN</td>\n      <td>NaN</td>\n    </tr>\n  </tbody>\n</table>\n<p>7769 rows × 12 columns</p>\n</div>"
     },
     "execution_count": 213,
     "metadata": {},
     "output_type": "execute_result"
    }
   ],
   "source": [
    "library_df[library_df.isnull().all(axis= 1)]"
   ],
   "metadata": {
    "collapsed": false,
    "pycharm": {
     "name": "#%%\n"
    }
   }
  },
  {
   "cell_type": "markdown",
   "source": [
    "## Dropping null rows & columns"
   ],
   "metadata": {
    "collapsed": false
   }
  },
  {
   "cell_type": "code",
   "execution_count": 214,
   "outputs": [
    {
     "data": {
      "text/plain": "2     7824\n4     7823\n6     7823\n8     7824\n10    7824\ndtype: int64"
     },
     "execution_count": 214,
     "metadata": {},
     "output_type": "execute_result"
    }
   ],
   "source": [
    "library_df.drop([0, 1, 3, 5, 7, 9, 11], inplace= True, axis= 1)\n",
    "library_df.isnull().sum()"
   ],
   "metadata": {
    "collapsed": false,
    "pycharm": {
     "name": "#%%\n"
    }
   }
  },
  {
   "cell_type": "code",
   "execution_count": 215,
   "outputs": [
    {
     "data": {
      "text/plain": "               2    4                                                  6   \\\n8         ‭‭ص‌۱۶۸  4.0  ‮ح‍ل‌ م‍س‍ائ‍ل‌ ف‍ی‍زی‍ک‌ ب‍رای‌ ع‍ل‍وم‌ زی‍س‍...   \n12  ‭‭درادن‍ ه‌در  1.0  ‮آش‍ن‍ای‍ی‌ ب‍ا م‍س‍ی‍ری‍اب‌ ه‍ای‌ م‍ی‍ک‍روت‍ی‍ک‌   \n16  ‭‭درادن‍ ه‌در  3.0  ‮ک‍ش‍ت‌ و پ‍رورش‌ گ‍ی‍اه‍ان‌ داروی‍ی‌ : آم‍ادگ...   \n20  ‭‭درادن‍ ه‌در  1.0                   ‮ب‍ی‍وت‍ک‍ن‍ول‍وژی‌ م‍ی‍ک‍روب‍ی‌   \n24  ‭‭درادن‍ ه‌در  1.0                        ‮زی‍س‍ت‌ ف‍ن‍اوری‌ غ‍ذای‍ی‌   \n\n      8       10  \n8   ۲۳۵۹  2594.0  \n12  ۲۵۹۳  2729.0  \n16  ۲۶۰۰  2736.0  \n20  ۲۶۱۶  2752.0  \n24  ۲۶۲۷  2763.0  ",
      "text/html": "<div>\n<style scoped>\n    .dataframe tbody tr th:only-of-type {\n        vertical-align: middle;\n    }\n\n    .dataframe tbody tr th {\n        vertical-align: top;\n    }\n\n    .dataframe thead th {\n        text-align: right;\n    }\n</style>\n<table border=\"1\" class=\"dataframe\">\n  <thead>\n    <tr style=\"text-align: right;\">\n      <th></th>\n      <th>2</th>\n      <th>4</th>\n      <th>6</th>\n      <th>8</th>\n      <th>10</th>\n    </tr>\n  </thead>\n  <tbody>\n    <tr>\n      <th>8</th>\n      <td>‭‭ص‌۱۶۸</td>\n      <td>4.0</td>\n      <td>‮ح‍ل‌ م‍س‍ائ‍ل‌ ف‍ی‍زی‍ک‌ ب‍رای‌ ع‍ل‍وم‌ زی‍س‍...</td>\n      <td>۲۳۵۹</td>\n      <td>2594.0</td>\n    </tr>\n    <tr>\n      <th>12</th>\n      <td>‭‭درادن‍ ه‌در</td>\n      <td>1.0</td>\n      <td>‮آش‍ن‍ای‍ی‌ ب‍ا م‍س‍ی‍ری‍اب‌ ه‍ای‌ م‍ی‍ک‍روت‍ی‍ک‌</td>\n      <td>۲۵۹۳</td>\n      <td>2729.0</td>\n    </tr>\n    <tr>\n      <th>16</th>\n      <td>‭‭درادن‍ ه‌در</td>\n      <td>3.0</td>\n      <td>‮ک‍ش‍ت‌ و پ‍رورش‌ گ‍ی‍اه‍ان‌ داروی‍ی‌ : آم‍ادگ...</td>\n      <td>۲۶۰۰</td>\n      <td>2736.0</td>\n    </tr>\n    <tr>\n      <th>20</th>\n      <td>‭‭درادن‍ ه‌در</td>\n      <td>1.0</td>\n      <td>‮ب‍ی‍وت‍ک‍ن‍ول‍وژی‌ م‍ی‍ک‍روب‍ی‌</td>\n      <td>۲۶۱۶</td>\n      <td>2752.0</td>\n    </tr>\n    <tr>\n      <th>24</th>\n      <td>‭‭درادن‍ ه‌در</td>\n      <td>1.0</td>\n      <td>‮زی‍س‍ت‌ ف‍ن‍اوری‌ غ‍ذای‍ی‌</td>\n      <td>۲۶۲۷</td>\n      <td>2763.0</td>\n    </tr>\n  </tbody>\n</table>\n</div>"
     },
     "execution_count": 215,
     "metadata": {},
     "output_type": "execute_result"
    }
   ],
   "source": [
    "library_df.drop(library_df[library_df.isnull().all(axis= 1)].index, inplace= True)\n",
    "library_df.head()"
   ],
   "metadata": {
    "collapsed": false,
    "pycharm": {
     "name": "#%%\n"
    }
   }
  },
  {
   "cell_type": "markdown",
   "source": [
    "## Evaluating droped Dataframe"
   ],
   "metadata": {
    "collapsed": false
   }
  },
  {
   "cell_type": "code",
   "execution_count": 216,
   "outputs": [
    {
     "data": {
      "text/plain": "2     1\n4     0\n6     0\n8     1\n10    1\ndtype: int64"
     },
     "execution_count": 216,
     "metadata": {},
     "output_type": "execute_result"
    }
   ],
   "source": [
    "library_df.isnull().sum()"
   ],
   "metadata": {
    "collapsed": false,
    "pycharm": {
     "name": "#%%\n"
    }
   }
  },
  {
   "cell_type": "markdown",
   "source": [
    "# Renaming columns"
   ],
   "metadata": {
    "collapsed": false
   }
  },
  {
   "cell_type": "code",
   "execution_count": 217,
   "outputs": [
    {
     "data": {
      "text/plain": "        #Guidance  Count                                             #Title  \\\n8         ‭‭ص‌۱۶۸    4.0  ‮ح‍ل‌ م‍س‍ائ‍ل‌ ف‍ی‍زی‍ک‌ ب‍رای‌ ع‍ل‍وم‌ زی‍س‍...   \n12  ‭‭درادن‍ ه‌در    1.0  ‮آش‍ن‍ای‍ی‌ ب‍ا م‍س‍ی‍ری‍اب‌ ه‍ای‌ م‍ی‍ک‍روت‍ی‍ک‌   \n16  ‭‭درادن‍ ه‌در    3.0  ‮ک‍ش‍ت‌ و پ‍رورش‌ گ‍ی‍اه‍ان‌ داروی‍ی‌ : آم‍ادگ...   \n20  ‭‭درادن‍ ه‌در    1.0                   ‮ب‍ی‍وت‍ک‍ن‍ول‍وژی‌ م‍ی‍ک‍روب‍ی‌   \n24  ‭‭درادن‍ ه‌در    1.0                        ‮زی‍س‍ت‌ ف‍ن‍اوری‌ غ‍ذای‍ی‌   \n\n   #Document  #Record  \n8       ۲۳۵۹   2594.0  \n12      ۲۵۹۳   2729.0  \n16      ۲۶۰۰   2736.0  \n20      ۲۶۱۶   2752.0  \n24      ۲۶۲۷   2763.0  ",
      "text/html": "<div>\n<style scoped>\n    .dataframe tbody tr th:only-of-type {\n        vertical-align: middle;\n    }\n\n    .dataframe tbody tr th {\n        vertical-align: top;\n    }\n\n    .dataframe thead th {\n        text-align: right;\n    }\n</style>\n<table border=\"1\" class=\"dataframe\">\n  <thead>\n    <tr style=\"text-align: right;\">\n      <th></th>\n      <th>#Guidance</th>\n      <th>Count</th>\n      <th>#Title</th>\n      <th>#Document</th>\n      <th>#Record</th>\n    </tr>\n  </thead>\n  <tbody>\n    <tr>\n      <th>8</th>\n      <td>‭‭ص‌۱۶۸</td>\n      <td>4.0</td>\n      <td>‮ح‍ل‌ م‍س‍ائ‍ل‌ ف‍ی‍زی‍ک‌ ب‍رای‌ ع‍ل‍وم‌ زی‍س‍...</td>\n      <td>۲۳۵۹</td>\n      <td>2594.0</td>\n    </tr>\n    <tr>\n      <th>12</th>\n      <td>‭‭درادن‍ ه‌در</td>\n      <td>1.0</td>\n      <td>‮آش‍ن‍ای‍ی‌ ب‍ا م‍س‍ی‍ری‍اب‌ ه‍ای‌ م‍ی‍ک‍روت‍ی‍ک‌</td>\n      <td>۲۵۹۳</td>\n      <td>2729.0</td>\n    </tr>\n    <tr>\n      <th>16</th>\n      <td>‭‭درادن‍ ه‌در</td>\n      <td>3.0</td>\n      <td>‮ک‍ش‍ت‌ و پ‍رورش‌ گ‍ی‍اه‍ان‌ داروی‍ی‌ : آم‍ادگ...</td>\n      <td>۲۶۰۰</td>\n      <td>2736.0</td>\n    </tr>\n    <tr>\n      <th>20</th>\n      <td>‭‭درادن‍ ه‌در</td>\n      <td>1.0</td>\n      <td>‮ب‍ی‍وت‍ک‍ن‍ول‍وژی‌ م‍ی‍ک‍روب‍ی‌</td>\n      <td>۲۶۱۶</td>\n      <td>2752.0</td>\n    </tr>\n    <tr>\n      <th>24</th>\n      <td>‭‭درادن‍ ه‌در</td>\n      <td>1.0</td>\n      <td>‮زی‍س‍ت‌ ف‍ن‍اوری‌ غ‍ذای‍ی‌</td>\n      <td>۲۶۲۷</td>\n      <td>2763.0</td>\n    </tr>\n  </tbody>\n</table>\n</div>"
     },
     "execution_count": 217,
     "metadata": {},
     "output_type": "execute_result"
    }
   ],
   "source": [
    "library_df.rename(columns= {2: '#Guidance', 4: 'Count', 6: '#Title', 8: '#Document', 10: '#Record'}, inplace= True)\n",
    "library_df.head()"
   ],
   "metadata": {
    "collapsed": false,
    "pycharm": {
     "name": "#%%\n"
    }
   }
  },
  {
   "cell_type": "markdown",
   "source": [
    "# Reset index column"
   ],
   "metadata": {
    "collapsed": false
   }
  },
  {
   "cell_type": "code",
   "execution_count": 218,
   "outputs": [
    {
     "data": {
      "text/plain": "       #Guidance  Count                                             #Title  \\\n0        ‭‭ص‌۱۶۸    4.0  ‮ح‍ل‌ م‍س‍ائ‍ل‌ ف‍ی‍زی‍ک‌ ب‍رای‌ ع‍ل‍وم‌ زی‍س‍...   \n1  ‭‭درادن‍ ه‌در    1.0  ‮آش‍ن‍ای‍ی‌ ب‍ا م‍س‍ی‍ری‍اب‌ ه‍ای‌ م‍ی‍ک‍روت‍ی‍ک‌   \n2  ‭‭درادن‍ ه‌در    3.0  ‮ک‍ش‍ت‌ و پ‍رورش‌ گ‍ی‍اه‍ان‌ داروی‍ی‌ : آم‍ادگ...   \n3  ‭‭درادن‍ ه‌در    1.0                   ‮ب‍ی‍وت‍ک‍ن‍ول‍وژی‌ م‍ی‍ک‍روب‍ی‌   \n4  ‭‭درادن‍ ه‌در    1.0                        ‮زی‍س‍ت‌ ف‍ن‍اوری‌ غ‍ذای‍ی‌   \n\n  #Document  #Record  \n0      ۲۳۵۹   2594.0  \n1      ۲۵۹۳   2729.0  \n2      ۲۶۰۰   2736.0  \n3      ۲۶۱۶   2752.0  \n4      ۲۶۲۷   2763.0  ",
      "text/html": "<div>\n<style scoped>\n    .dataframe tbody tr th:only-of-type {\n        vertical-align: middle;\n    }\n\n    .dataframe tbody tr th {\n        vertical-align: top;\n    }\n\n    .dataframe thead th {\n        text-align: right;\n    }\n</style>\n<table border=\"1\" class=\"dataframe\">\n  <thead>\n    <tr style=\"text-align: right;\">\n      <th></th>\n      <th>#Guidance</th>\n      <th>Count</th>\n      <th>#Title</th>\n      <th>#Document</th>\n      <th>#Record</th>\n    </tr>\n  </thead>\n  <tbody>\n    <tr>\n      <th>0</th>\n      <td>‭‭ص‌۱۶۸</td>\n      <td>4.0</td>\n      <td>‮ح‍ل‌ م‍س‍ائ‍ل‌ ف‍ی‍زی‍ک‌ ب‍رای‌ ع‍ل‍وم‌ زی‍س‍...</td>\n      <td>۲۳۵۹</td>\n      <td>2594.0</td>\n    </tr>\n    <tr>\n      <th>1</th>\n      <td>‭‭درادن‍ ه‌در</td>\n      <td>1.0</td>\n      <td>‮آش‍ن‍ای‍ی‌ ب‍ا م‍س‍ی‍ری‍اب‌ ه‍ای‌ م‍ی‍ک‍روت‍ی‍ک‌</td>\n      <td>۲۵۹۳</td>\n      <td>2729.0</td>\n    </tr>\n    <tr>\n      <th>2</th>\n      <td>‭‭درادن‍ ه‌در</td>\n      <td>3.0</td>\n      <td>‮ک‍ش‍ت‌ و پ‍رورش‌ گ‍ی‍اه‍ان‌ داروی‍ی‌ : آم‍ادگ...</td>\n      <td>۲۶۰۰</td>\n      <td>2736.0</td>\n    </tr>\n    <tr>\n      <th>3</th>\n      <td>‭‭درادن‍ ه‌در</td>\n      <td>1.0</td>\n      <td>‮ب‍ی‍وت‍ک‍ن‍ول‍وژی‌ م‍ی‍ک‍روب‍ی‌</td>\n      <td>۲۶۱۶</td>\n      <td>2752.0</td>\n    </tr>\n    <tr>\n      <th>4</th>\n      <td>‭‭درادن‍ ه‌در</td>\n      <td>1.0</td>\n      <td>‮زی‍س‍ت‌ ف‍ن‍اوری‌ غ‍ذای‍ی‌</td>\n      <td>۲۶۲۷</td>\n      <td>2763.0</td>\n    </tr>\n  </tbody>\n</table>\n</div>"
     },
     "execution_count": 218,
     "metadata": {},
     "output_type": "execute_result"
    }
   ],
   "source": [
    "library_df.reset_index(inplace= True, drop= True)\n",
    "library_df.head()"
   ],
   "metadata": {
    "collapsed": false,
    "pycharm": {
     "name": "#%%\n"
    }
   }
  },
  {
   "cell_type": "code",
   "execution_count": 219,
   "outputs": [
    {
     "data": {
      "text/plain": "                    #Guidance   Count  \\\n2522     ‭‭U،۱۶۲،/گ‌۴س‌۲،۱۳۸۵     1.0   \n2523    ‭‭VT،۱۷۴،/ف‌۴ف‌۹،۱۳۸۹     2.0   \n2524       ‭‭WP،۱۴۰،/ز۶۵،۱۳۷۵     1.0   \n2525  ‭‭Z،۶۷۵،/د۲ ف‌ل‍ا۵،۱۳۹۰     1.0   \n2526    ‭‭Z،۵۲/۵،/و۳۷خ‌۸،۱۳۸۳     1.0   \n2527    ‭‭Z،۵۲/۵،/و۳۷م‌۶،۱۳۸۳     1.0   \n2528     ‭‭Z،۵۲/۵،/ع‌۷آ۸،۱۳۹۰     1.0   \n2529      ‭‭Z،۱،/م‌۳۲۵گ‌،۱۳۷۵     1.0   \n2530    ‭‭اد،۳۰۰،/ب‌۴ب‌۲،۱۳۹۲     2.0   \n2531                      NaN  6161.0   \n\n                                                 #Title #Document  #Record  \n2522                      ‮س‍اخ‍ت‍ار ش‍ن‍اس‍ی‌ راه‍ب‍رد      ۲۰۳۸   2260.0  \n2523      ‮ف‍ن‌ آوری‌ ن‍ان‍و: م‍اش‍ی‍ن‍ه‍ای‌ ن‍ام‍رئ‍ی‌       ۶۴۲    699.0  \n2524  ‮ت‍ظاه‍رات‌ اص‍ل‍ی‌ و درم‍ان‌ ب‍ی‍م‍اری‍ه‍ا- ز...      ۲۰۴۹   2271.0  \n2525  ‮اس‍ت‍ان‍دارده‍ای‌ ک‍ت‍اب‍خ‍ان‍ه‌ دان‍ش‍گ‍اه‍ی...      ۱۸۱۷   2029.0  \n2526        ‮رای‍ان‍ه‌ ک‍ار واژن‍ام‍ه‌ پ‍ردازی‌ word xp      ۲۰۱۶   2234.0  \n2527                                       ‮ک‍ل‍ی‍د ورد      ۲۰۵۹   2284.0  \n2528                       ‮آم‍وزش‌ ت‍ص‍وی‍ری‌ ورد۲۰۱۰         ۳۰     37.0  \n2529                   ‮درم‍ان‌ ب‍ا گ‍ی‍اه‍ان‌ داروی‍ی‌      ۲۲۰۹   2445.0  \n2530                               ‮ب‍اغ‌ ب‍ی‌ ان‍ت‍ه‍ا      ۱۴۰۹   1595.0  \n2531                      جمـــــــــــــع کــل نســــخ       NaN      NaN  ",
      "text/html": "<div>\n<style scoped>\n    .dataframe tbody tr th:only-of-type {\n        vertical-align: middle;\n    }\n\n    .dataframe tbody tr th {\n        vertical-align: top;\n    }\n\n    .dataframe thead th {\n        text-align: right;\n    }\n</style>\n<table border=\"1\" class=\"dataframe\">\n  <thead>\n    <tr style=\"text-align: right;\">\n      <th></th>\n      <th>#Guidance</th>\n      <th>Count</th>\n      <th>#Title</th>\n      <th>#Document</th>\n      <th>#Record</th>\n    </tr>\n  </thead>\n  <tbody>\n    <tr>\n      <th>2522</th>\n      <td>‭‭U،۱۶۲،/گ‌۴س‌۲،۱۳۸۵</td>\n      <td>1.0</td>\n      <td>‮س‍اخ‍ت‍ار ش‍ن‍اس‍ی‌ راه‍ب‍رد</td>\n      <td>۲۰۳۸</td>\n      <td>2260.0</td>\n    </tr>\n    <tr>\n      <th>2523</th>\n      <td>‭‭VT،۱۷۴،/ف‌۴ف‌۹،۱۳۸۹</td>\n      <td>2.0</td>\n      <td>‮ف‍ن‌ آوری‌ ن‍ان‍و: م‍اش‍ی‍ن‍ه‍ای‌ ن‍ام‍رئ‍ی‌</td>\n      <td>۶۴۲</td>\n      <td>699.0</td>\n    </tr>\n    <tr>\n      <th>2524</th>\n      <td>‭‭WP،۱۴۰،/ز۶۵،۱۳۷۵</td>\n      <td>1.0</td>\n      <td>‮ت‍ظاه‍رات‌ اص‍ل‍ی‌ و درم‍ان‌ ب‍ی‍م‍اری‍ه‍ا- ز...</td>\n      <td>۲۰۴۹</td>\n      <td>2271.0</td>\n    </tr>\n    <tr>\n      <th>2525</th>\n      <td>‭‭Z،۶۷۵،/د۲ ف‌ل‍ا۵،۱۳۹۰</td>\n      <td>1.0</td>\n      <td>‮اس‍ت‍ان‍دارده‍ای‌ ک‍ت‍اب‍خ‍ان‍ه‌ دان‍ش‍گ‍اه‍ی...</td>\n      <td>۱۸۱۷</td>\n      <td>2029.0</td>\n    </tr>\n    <tr>\n      <th>2526</th>\n      <td>‭‭Z،۵۲/۵،/و۳۷خ‌۸،۱۳۸۳</td>\n      <td>1.0</td>\n      <td>‮رای‍ان‍ه‌ ک‍ار واژن‍ام‍ه‌ پ‍ردازی‌ word xp</td>\n      <td>۲۰۱۶</td>\n      <td>2234.0</td>\n    </tr>\n    <tr>\n      <th>2527</th>\n      <td>‭‭Z،۵۲/۵،/و۳۷م‌۶،۱۳۸۳</td>\n      <td>1.0</td>\n      <td>‮ک‍ل‍ی‍د ورد</td>\n      <td>۲۰۵۹</td>\n      <td>2284.0</td>\n    </tr>\n    <tr>\n      <th>2528</th>\n      <td>‭‭Z،۵۲/۵،/ع‌۷آ۸،۱۳۹۰</td>\n      <td>1.0</td>\n      <td>‮آم‍وزش‌ ت‍ص‍وی‍ری‌ ورد۲۰۱۰</td>\n      <td>۳۰</td>\n      <td>37.0</td>\n    </tr>\n    <tr>\n      <th>2529</th>\n      <td>‭‭Z،۱،/م‌۳۲۵گ‌،۱۳۷۵</td>\n      <td>1.0</td>\n      <td>‮درم‍ان‌ ب‍ا گ‍ی‍اه‍ان‌ داروی‍ی‌</td>\n      <td>۲۲۰۹</td>\n      <td>2445.0</td>\n    </tr>\n    <tr>\n      <th>2530</th>\n      <td>‭‭اد،۳۰۰،/ب‌۴ب‌۲،۱۳۹۲</td>\n      <td>2.0</td>\n      <td>‮ب‍اغ‌ ب‍ی‌ ان‍ت‍ه‍ا</td>\n      <td>۱۴۰۹</td>\n      <td>1595.0</td>\n    </tr>\n    <tr>\n      <th>2531</th>\n      <td>NaN</td>\n      <td>6161.0</td>\n      <td>جمـــــــــــــع کــل نســــخ</td>\n      <td>NaN</td>\n      <td>NaN</td>\n    </tr>\n  </tbody>\n</table>\n</div>"
     },
     "execution_count": 219,
     "metadata": {},
     "output_type": "execute_result"
    }
   ],
   "source": [
    "library_df.tail(10)"
   ],
   "metadata": {
    "collapsed": false,
    "pycharm": {
     "name": "#%%\n"
    }
   }
  },
  {
   "cell_type": "markdown",
   "source": [
    "# Droping last row"
   ],
   "metadata": {
    "collapsed": false
   }
  },
  {
   "cell_type": "code",
   "execution_count": 220,
   "outputs": [
    {
     "data": {
      "text/plain": "                    #Guidance  Count  \\\n2521   ‭‭U،۵۵،/۳۱۳۹۶آ۵ح‌،۱۳۹۶    1.0   \n2522     ‭‭U،۱۶۲،/گ‌۴س‌۲،۱۳۸۵    1.0   \n2523    ‭‭VT،۱۷۴،/ف‌۴ف‌۹،۱۳۸۹    2.0   \n2524       ‭‭WP،۱۴۰،/ز۶۵،۱۳۷۵    1.0   \n2525  ‭‭Z،۶۷۵،/د۲ ف‌ل‍ا۵،۱۳۹۰    1.0   \n2526    ‭‭Z،۵۲/۵،/و۳۷خ‌۸،۱۳۸۳    1.0   \n2527    ‭‭Z،۵۲/۵،/و۳۷م‌۶،۱۳۸۳    1.0   \n2528     ‭‭Z،۵۲/۵،/ع‌۷آ۸،۱۳۹۰    1.0   \n2529      ‭‭Z،۱،/م‌۳۲۵گ‌،۱۳۷۵    1.0   \n2530    ‭‭اد،۳۰۰،/ب‌۴ب‌۲،۱۳۹۲    2.0   \n\n                                                 #Title #Document  #Record  \n2521            ‮روزه‍ای‌ ب‍ه‌ ی‍ادم‍ان‍دن‍ی‌ س‍رب‍ازی‌      ۲۰۴۳   2265.0  \n2522                      ‮س‍اخ‍ت‍ار ش‍ن‍اس‍ی‌ راه‍ب‍رد      ۲۰۳۸   2260.0  \n2523      ‮ف‍ن‌ آوری‌ ن‍ان‍و: م‍اش‍ی‍ن‍ه‍ای‌ ن‍ام‍رئ‍ی‌       ۶۴۲    699.0  \n2524  ‮ت‍ظاه‍رات‌ اص‍ل‍ی‌ و درم‍ان‌ ب‍ی‍م‍اری‍ه‍ا- ز...      ۲۰۴۹   2271.0  \n2525  ‮اس‍ت‍ان‍دارده‍ای‌ ک‍ت‍اب‍خ‍ان‍ه‌ دان‍ش‍گ‍اه‍ی...      ۱۸۱۷   2029.0  \n2526        ‮رای‍ان‍ه‌ ک‍ار واژن‍ام‍ه‌ پ‍ردازی‌ word xp      ۲۰۱۶   2234.0  \n2527                                       ‮ک‍ل‍ی‍د ورد      ۲۰۵۹   2284.0  \n2528                       ‮آم‍وزش‌ ت‍ص‍وی‍ری‌ ورد۲۰۱۰         ۳۰     37.0  \n2529                   ‮درم‍ان‌ ب‍ا گ‍ی‍اه‍ان‌ داروی‍ی‌      ۲۲۰۹   2445.0  \n2530                               ‮ب‍اغ‌ ب‍ی‌ ان‍ت‍ه‍ا      ۱۴۰۹   1595.0  ",
      "text/html": "<div>\n<style scoped>\n    .dataframe tbody tr th:only-of-type {\n        vertical-align: middle;\n    }\n\n    .dataframe tbody tr th {\n        vertical-align: top;\n    }\n\n    .dataframe thead th {\n        text-align: right;\n    }\n</style>\n<table border=\"1\" class=\"dataframe\">\n  <thead>\n    <tr style=\"text-align: right;\">\n      <th></th>\n      <th>#Guidance</th>\n      <th>Count</th>\n      <th>#Title</th>\n      <th>#Document</th>\n      <th>#Record</th>\n    </tr>\n  </thead>\n  <tbody>\n    <tr>\n      <th>2521</th>\n      <td>‭‭U،۵۵،/۳۱۳۹۶آ۵ح‌،۱۳۹۶</td>\n      <td>1.0</td>\n      <td>‮روزه‍ای‌ ب‍ه‌ ی‍ادم‍ان‍دن‍ی‌ س‍رب‍ازی‌</td>\n      <td>۲۰۴۳</td>\n      <td>2265.0</td>\n    </tr>\n    <tr>\n      <th>2522</th>\n      <td>‭‭U،۱۶۲،/گ‌۴س‌۲،۱۳۸۵</td>\n      <td>1.0</td>\n      <td>‮س‍اخ‍ت‍ار ش‍ن‍اس‍ی‌ راه‍ب‍رد</td>\n      <td>۲۰۳۸</td>\n      <td>2260.0</td>\n    </tr>\n    <tr>\n      <th>2523</th>\n      <td>‭‭VT،۱۷۴،/ف‌۴ف‌۹،۱۳۸۹</td>\n      <td>2.0</td>\n      <td>‮ف‍ن‌ آوری‌ ن‍ان‍و: م‍اش‍ی‍ن‍ه‍ای‌ ن‍ام‍رئ‍ی‌</td>\n      <td>۶۴۲</td>\n      <td>699.0</td>\n    </tr>\n    <tr>\n      <th>2524</th>\n      <td>‭‭WP،۱۴۰،/ز۶۵،۱۳۷۵</td>\n      <td>1.0</td>\n      <td>‮ت‍ظاه‍رات‌ اص‍ل‍ی‌ و درم‍ان‌ ب‍ی‍م‍اری‍ه‍ا- ز...</td>\n      <td>۲۰۴۹</td>\n      <td>2271.0</td>\n    </tr>\n    <tr>\n      <th>2525</th>\n      <td>‭‭Z،۶۷۵،/د۲ ف‌ل‍ا۵،۱۳۹۰</td>\n      <td>1.0</td>\n      <td>‮اس‍ت‍ان‍دارده‍ای‌ ک‍ت‍اب‍خ‍ان‍ه‌ دان‍ش‍گ‍اه‍ی...</td>\n      <td>۱۸۱۷</td>\n      <td>2029.0</td>\n    </tr>\n    <tr>\n      <th>2526</th>\n      <td>‭‭Z،۵۲/۵،/و۳۷خ‌۸،۱۳۸۳</td>\n      <td>1.0</td>\n      <td>‮رای‍ان‍ه‌ ک‍ار واژن‍ام‍ه‌ پ‍ردازی‌ word xp</td>\n      <td>۲۰۱۶</td>\n      <td>2234.0</td>\n    </tr>\n    <tr>\n      <th>2527</th>\n      <td>‭‭Z،۵۲/۵،/و۳۷م‌۶،۱۳۸۳</td>\n      <td>1.0</td>\n      <td>‮ک‍ل‍ی‍د ورد</td>\n      <td>۲۰۵۹</td>\n      <td>2284.0</td>\n    </tr>\n    <tr>\n      <th>2528</th>\n      <td>‭‭Z،۵۲/۵،/ع‌۷آ۸،۱۳۹۰</td>\n      <td>1.0</td>\n      <td>‮آم‍وزش‌ ت‍ص‍وی‍ری‌ ورد۲۰۱۰</td>\n      <td>۳۰</td>\n      <td>37.0</td>\n    </tr>\n    <tr>\n      <th>2529</th>\n      <td>‭‭Z،۱،/م‌۳۲۵گ‌،۱۳۷۵</td>\n      <td>1.0</td>\n      <td>‮درم‍ان‌ ب‍ا گ‍ی‍اه‍ان‌ داروی‍ی‌</td>\n      <td>۲۲۰۹</td>\n      <td>2445.0</td>\n    </tr>\n    <tr>\n      <th>2530</th>\n      <td>‭‭اد،۳۰۰،/ب‌۴ب‌۲،۱۳۹۲</td>\n      <td>2.0</td>\n      <td>‮ب‍اغ‌ ب‍ی‌ ان‍ت‍ه‍ا</td>\n      <td>۱۴۰۹</td>\n      <td>1595.0</td>\n    </tr>\n  </tbody>\n</table>\n</div>"
     },
     "execution_count": 220,
     "metadata": {},
     "output_type": "execute_result"
    }
   ],
   "source": [
    "library_df.drop(index= library_df.shape[0] - 1, inplace= True)\n",
    "library_df.tail(10)"
   ],
   "metadata": {
    "collapsed": false,
    "pycharm": {
     "name": "#%%\n"
    }
   }
  },
  {
   "cell_type": "markdown",
   "source": [
    "# Exercise"
   ],
   "metadata": {
    "collapsed": false
   }
  },
  {
   "cell_type": "raw",
   "source": [
    "فراوانی سال انتشار کتاب های موجود در کتابخانه را بدست بیاورید. به عنوان مثال بگوئید در کتابخانه چند کتاب سال انتشارشان مربوط به سال 1375 است؟\n",
    "این مقدار را برای همه سال هایی که  نسخه از آن در کتابخانه موجود است بدست بیاورید."
   ],
   "metadata": {
    "collapsed": false
   }
  },
  {
   "cell_type": "code",
   "execution_count": 221,
   "outputs": [
    {
     "name": "stdout",
     "output_type": "stream",
     "text": [
      "۱۴۰۰ = 12\n"
     ]
    }
   ],
   "source": [
    "x = library_df['#Guidance'].values.tolist()\n",
    "y = '۱۴۰۰'\n",
    "j = 0\n",
    "for i in range(0, 2531):\n",
    "    if y == x[i][-4:]:\n",
    "        j+=1\n",
    "        # print(x[i])\n",
    "print(y+' = '+str(j))"
   ],
   "metadata": {
    "collapsed": false,
    "pycharm": {
     "name": "#%%\n"
    }
   }
  },
  {
   "cell_type": "code",
   "execution_count": 222,
   "outputs": [
    {
     "data": {
      "text/plain": "    Year  Book\n0   ۱۳۳۷     1\n1   ۱۳۴۵     1\n2   ۱۳۴۸     1\n3   ۱۳۵۵     1\n4   ۱۳۵۷     1\n5   ۱۳۶۲     1\n6   ۱۳۶۳     4\n7   ۱۳۶۴     1\n8   ۱۳۶۵     3\n9   ۱۳۶۶     5\n10  ۱۳۶۷     5\n11  ۱۳۶۸     3\n12  ۱۳۶۹     8\n13  ۱۳۷۰    10\n14  ۱۳۷۱     6\n15  ۱۳۷۲     5\n16  ۱۳۷۳    21\n17  ۱۳۷۴    28\n18  ۱۳۷۵    18\n19  ۱۳۷۶    18\n20  ۱۳۷۷    25\n21  ۱۳۷۸    35\n22  ۱۳۷۹    46\n23  ۱۳۸۰    45\n24  ۱۳۸۱    51\n25  ۱۳۸۲    60\n26  ۱۳۸۳    73\n27  ۱۳۸۴   102\n28  ۱۳۸۵    81\n29  ۱۳۸۶   147\n30  ۱۳۸۷   174\n31  ۱۳۸۸   206\n32  ۱۳۸۹   232\n33  ۱۳۹۰   203\n34  ۱۳۹۱   214\n35  ۱۳۹۲   206\n36  ۱۳۹۳   127\n37  ۱۳۹۴    81\n38  ۱۳۹۵    73\n39  ۱۳۹۶    63\n40  ۱۳۹۷    30\n41  ۱۳۹۸    17\n42  ۱۳۹۹     7\n43  ۱۴۰۰    12\n44  ۱۴۰۱     3",
      "text/html": "<div>\n<style scoped>\n    .dataframe tbody tr th:only-of-type {\n        vertical-align: middle;\n    }\n\n    .dataframe tbody tr th {\n        vertical-align: top;\n    }\n\n    .dataframe thead th {\n        text-align: right;\n    }\n</style>\n<table border=\"1\" class=\"dataframe\">\n  <thead>\n    <tr style=\"text-align: right;\">\n      <th></th>\n      <th>Year</th>\n      <th>Book</th>\n    </tr>\n  </thead>\n  <tbody>\n    <tr>\n      <th>0</th>\n      <td>۱۳۳۷</td>\n      <td>1</td>\n    </tr>\n    <tr>\n      <th>1</th>\n      <td>۱۳۴۵</td>\n      <td>1</td>\n    </tr>\n    <tr>\n      <th>2</th>\n      <td>۱۳۴۸</td>\n      <td>1</td>\n    </tr>\n    <tr>\n      <th>3</th>\n      <td>۱۳۵۵</td>\n      <td>1</td>\n    </tr>\n    <tr>\n      <th>4</th>\n      <td>۱۳۵۷</td>\n      <td>1</td>\n    </tr>\n    <tr>\n      <th>5</th>\n      <td>۱۳۶۲</td>\n      <td>1</td>\n    </tr>\n    <tr>\n      <th>6</th>\n      <td>۱۳۶۳</td>\n      <td>4</td>\n    </tr>\n    <tr>\n      <th>7</th>\n      <td>۱۳۶۴</td>\n      <td>1</td>\n    </tr>\n    <tr>\n      <th>8</th>\n      <td>۱۳۶۵</td>\n      <td>3</td>\n    </tr>\n    <tr>\n      <th>9</th>\n      <td>۱۳۶۶</td>\n      <td>5</td>\n    </tr>\n    <tr>\n      <th>10</th>\n      <td>۱۳۶۷</td>\n      <td>5</td>\n    </tr>\n    <tr>\n      <th>11</th>\n      <td>۱۳۶۸</td>\n      <td>3</td>\n    </tr>\n    <tr>\n      <th>12</th>\n      <td>۱۳۶۹</td>\n      <td>8</td>\n    </tr>\n    <tr>\n      <th>13</th>\n      <td>۱۳۷۰</td>\n      <td>10</td>\n    </tr>\n    <tr>\n      <th>14</th>\n      <td>۱۳۷۱</td>\n      <td>6</td>\n    </tr>\n    <tr>\n      <th>15</th>\n      <td>۱۳۷۲</td>\n      <td>5</td>\n    </tr>\n    <tr>\n      <th>16</th>\n      <td>۱۳۷۳</td>\n      <td>21</td>\n    </tr>\n    <tr>\n      <th>17</th>\n      <td>۱۳۷۴</td>\n      <td>28</td>\n    </tr>\n    <tr>\n      <th>18</th>\n      <td>۱۳۷۵</td>\n      <td>18</td>\n    </tr>\n    <tr>\n      <th>19</th>\n      <td>۱۳۷۶</td>\n      <td>18</td>\n    </tr>\n    <tr>\n      <th>20</th>\n      <td>۱۳۷۷</td>\n      <td>25</td>\n    </tr>\n    <tr>\n      <th>21</th>\n      <td>۱۳۷۸</td>\n      <td>35</td>\n    </tr>\n    <tr>\n      <th>22</th>\n      <td>۱۳۷۹</td>\n      <td>46</td>\n    </tr>\n    <tr>\n      <th>23</th>\n      <td>۱۳۸۰</td>\n      <td>45</td>\n    </tr>\n    <tr>\n      <th>24</th>\n      <td>۱۳۸۱</td>\n      <td>51</td>\n    </tr>\n    <tr>\n      <th>25</th>\n      <td>۱۳۸۲</td>\n      <td>60</td>\n    </tr>\n    <tr>\n      <th>26</th>\n      <td>۱۳۸۳</td>\n      <td>73</td>\n    </tr>\n    <tr>\n      <th>27</th>\n      <td>۱۳۸۴</td>\n      <td>102</td>\n    </tr>\n    <tr>\n      <th>28</th>\n      <td>۱۳۸۵</td>\n      <td>81</td>\n    </tr>\n    <tr>\n      <th>29</th>\n      <td>۱۳۸۶</td>\n      <td>147</td>\n    </tr>\n    <tr>\n      <th>30</th>\n      <td>۱۳۸۷</td>\n      <td>174</td>\n    </tr>\n    <tr>\n      <th>31</th>\n      <td>۱۳۸۸</td>\n      <td>206</td>\n    </tr>\n    <tr>\n      <th>32</th>\n      <td>۱۳۸۹</td>\n      <td>232</td>\n    </tr>\n    <tr>\n      <th>33</th>\n      <td>۱۳۹۰</td>\n      <td>203</td>\n    </tr>\n    <tr>\n      <th>34</th>\n      <td>۱۳۹۱</td>\n      <td>214</td>\n    </tr>\n    <tr>\n      <th>35</th>\n      <td>۱۳۹۲</td>\n      <td>206</td>\n    </tr>\n    <tr>\n      <th>36</th>\n      <td>۱۳۹۳</td>\n      <td>127</td>\n    </tr>\n    <tr>\n      <th>37</th>\n      <td>۱۳۹۴</td>\n      <td>81</td>\n    </tr>\n    <tr>\n      <th>38</th>\n      <td>۱۳۹۵</td>\n      <td>73</td>\n    </tr>\n    <tr>\n      <th>39</th>\n      <td>۱۳۹۶</td>\n      <td>63</td>\n    </tr>\n    <tr>\n      <th>40</th>\n      <td>۱۳۹۷</td>\n      <td>30</td>\n    </tr>\n    <tr>\n      <th>41</th>\n      <td>۱۳۹۸</td>\n      <td>17</td>\n    </tr>\n    <tr>\n      <th>42</th>\n      <td>۱۳۹۹</td>\n      <td>7</td>\n    </tr>\n    <tr>\n      <th>43</th>\n      <td>۱۴۰۰</td>\n      <td>12</td>\n    </tr>\n    <tr>\n      <th>44</th>\n      <td>۱۴۰۱</td>\n      <td>3</td>\n    </tr>\n  </tbody>\n</table>\n</div>"
     },
     "execution_count": 222,
     "metadata": {},
     "output_type": "execute_result"
    }
   ],
   "source": [
    "x = library_df['#Guidance'].values.tolist()\n",
    "y = ['۰','۱','۲','۳','۴','۵','۶','۷','۸','۹']\n",
    "z = {'Year':[], 'Book':[]}\n",
    "for i in range (3, 5):\n",
    "    for j in range (0, 10):\n",
    "        for k in range (0, 10):\n",
    "            m = 0\n",
    "            for n in range (0, 2531):\n",
    "                if '۱'+y[i]+y[j]+y[k] == x[n][-4:]:\n",
    "                    m+=1\n",
    "            z['Year'].append('۱'+y[i]+y[j]+y[k])\n",
    "            z['Book'].append(m)\n",
    "Books_df = pd.DataFrame(z)\n",
    "for i in range(0, 200):\n",
    "    if Books_df.loc[i]['Book'] == 0:\n",
    "        Books_df.drop(i, inplace=True)\n",
    "Books_df.reset_index(inplace= True, drop= True)\n",
    "Books_df"
   ],
   "metadata": {
    "collapsed": false,
    "pycharm": {
     "name": "#%%\n"
    }
   }
  },
  {
   "cell_type": "code",
   "execution_count": 222,
   "outputs": [],
   "source": [],
   "metadata": {
    "collapsed": false,
    "pycharm": {
     "name": "#%%\n"
    }
   }
  }
 ],
 "metadata": {
  "kernelspec": {
   "display_name": "Python 3",
   "language": "python",
   "name": "python3"
  },
  "language_info": {
   "codemirror_mode": {
    "name": "ipython",
    "version": 2
   },
   "file_extension": ".py",
   "mimetype": "text/x-python",
   "name": "python",
   "nbconvert_exporter": "python",
   "pygments_lexer": "ipython2",
   "version": "2.7.6"
  }
 },
 "nbformat": 4,
 "nbformat_minor": 0
}